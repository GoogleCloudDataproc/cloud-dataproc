{
 "cells": [
  {
   "cell_type": "code",
   "execution_count": 4,
   "id": "c674ba30-373e-4320-b7b4-d6435988e3f1",
   "metadata": {
    "tags": []
   },
   "outputs": [],
   "source": [
    "# Copyright 2024 Google LLC\n",
    "#\n",
    "# Licensed under the Apache License, Version 2.0 (the \"License\");\n",
    "# you may not use this file except in compliance with the License.\n",
    "# You may obtain a copy of the License at\n",
    "#\n",
    "#     https://www.apache.org/licenses/LICENSE-2.0\n",
    "#\n",
    "# Unless required by applicable law or agreed to in writing, software\n",
    "# distributed under the License is distributed on an \"AS IS\" BASIS,\n",
    "# WITHOUT WARRANTIES OR CONDITIONS OF ANY KIND, either express or implied.\n",
    "# See the License for the specific language governing permissions and\n",
    "# limitations under the License."
   ]
  },
  {
   "cell_type": "markdown",
   "id": "c9a32ed9-cf42-4e3e-aa7f-8bc4ae196d63",
   "metadata": {
    "tags": []
   },
   "source": [
    "<table align=\"left\">\n",
    "</td>\n",
    "<td style=\"text-align: center\">\n",
    "<a href=\"https://console.cloud.google.com/vertex-ai/workbench/instances/create?download_url=https://raw.githubusercontent.com/GoogleCloudDataproc/cloud-dataproc/ai-ml-samples/interactive/ImageClassificationInSpark.ipynb\">\n",
    "<img src=\"https://lh3.googleusercontent.com/UiNooY4LUgW_oTvpsNhPpQzsstV5W8F7rYgxgGBD85cWJoLmrOzhVs_ksK_vgx40SHs7jCqkTkCk=e14-rj-sc0xffffff-h130-w32\" alt=\"Vertex AI logo\"><br> Open in Vertex AI Workbench\n",
    "</a>\n",
    "</td>\n",
    "<td style=\"text-align: center\">\n",
    "<a href=\"https://github.com/GoogleCloudDataproc/cloud-dataproc/ai-ml-samples/interactive/ImageClassificationInSpark.ipynb\">\n",
    "<img src=\"https://cloud.google.com/ml-engine/images/github-logo-32px.png\" alt=\"Vertex AI logo\"><br> Open in Vertex AI Workbench\n",
    "</a>\n",
    "</td>\n",
    "</table>"
   ]
  },
  {
   "cell_type": "markdown",
   "id": "c841dbfd-317c-487a-91a8-cf9613eab108",
   "metadata": {},
   "source": [
    "## Overview\n",
    "\n",
    "In this tutorial, you build a pipeline for predicting customer churn using [Apache Spark](https://spark.apache.org/), [XGBoost](https://xgboost.readthedocs.io/en/latest/index.html), and the [Hugging Face Transformers](https://huggingface.co/docs/transformers/en/index) library. \n",
    "\n",
    "This tutorial is intended to run on [Dataproc Serverless](https://cloud.google.com/dataproc-serverless/docs/guides/create-serverless-sessions-templates) on Google Cloud."
   ]
  },
  {
   "cell_type": "markdown",
   "id": "aff5b074-6611-4e03-bb12-16661b954f18",
   "metadata": {},
   "source": [
    "## Get started\n",
    "\n",
    "1. Create a dataproc-enabled [Vertex AI workbench instance](https://cloud.google.com/vertex-ai/docs/workbench/instances/create-dataproc-enabled) or use an existing instance.\n",
    "2. Enable [Private Google Access](https://cloud.google.com/dataproc-serverless/docs/concepts/network#private-google-access-requirement) on a subnet in your project.\n",
    "3. Setup [Public NAT](https://cloud.google.com/nat/docs/set-up-manage-network-address-translation#create-nat-gateway) to download models from Hugging Face. See [External network access](https://cloud.google.com/dataproc-serverless/docs/concepts/network#subnetwork_requirements).\n",
    "4. Create a [serverless runtime template](https://cloud.google.com/dataproc-serverless/docs/quickstarts/jupyterlab-sessions#dataproc_create_serverless_runtime_template-JupyterLab) and connect to a [remote kernel](https://cloud.google.com/vertex-ai/docs/workbench/instances/create-dataproc-enabled#serverless-spark)."
   ]
  },
  {
   "cell_type": "markdown",
   "id": "fb62046a-da99-454f-a57f-a23bfef62415",
   "metadata": {},
   "source": [
    "Uncomment and run this cell if not using Dataproc Serverless version 1.2 or 2.2+."
   ]
  },
  {
   "cell_type": "code",
   "execution_count": null,
   "id": "de803782-3add-4bc8-a321-7bb373c38bfd",
   "metadata": {
    "tags": []
   },
   "outputs": [],
   "source": [
    "# pip install xgboost `transformers[torch]`"
   ]
  },
  {
   "cell_type": "markdown",
   "id": "0790e1dc-0838-4f05-a5cb-5fe814d974f0",
   "metadata": {},
   "source": [
    "Import libraries."
   ]
  },
  {
   "cell_type": "code",
   "execution_count": null,
   "id": "f204fed4-1ad2-4bac-ae19-1882db3f67f5",
   "metadata": {},
   "outputs": [],
   "source": [
    "from google.cloud import bigquery\n",
    "import pandas as pd\n",
    "\n",
    "from pyspark.ml import Pipeline\n",
    "from pyspark.ml.feature import StringIndexer, VectorAssembler, OneHotEncoder\n",
    "from pyspark.ml.evaluation import BinaryClassificationEvaluator, MulticlassClassificationEvaluator\n",
    "from pyspark.sql.functions import when, col, regexp_replace, trim\n",
    "from pyspark.sql import SparkSession\n",
    "from pyspark.sql.types import DoubleType, FloatType, IntegerType, StringType\n",
    "from pyspark.sql.functions import col, isnan, when, count, lit, udf\n",
    "\n",
    "from transformers import pipeline\n",
    "from xgboost.spark import SparkXGBClassifier\n"
   ]
  },
  {
   "cell_type": "markdown",
   "id": "196b623f-e326-463a-a592-3433609079ec",
   "metadata": {},
   "source": [
    "Set a name for an existing [Cloud Storage](https://cloud.google.com/storage/docs/creating-buckets) bucket. "
   ]
  },
  {
   "cell_type": "code",
   "execution_count": 5,
   "id": "4cdbeb05-806e-438a-9010-3e9bea1b5cca",
   "metadata": {
    "tags": []
   },
   "outputs": [],
   "source": [
    "BUCKET = \"YOUR-BUCKET\""
   ]
  },
  {
   "cell_type": "markdown",
   "id": "89a3ee15-27b9-4d45-8a47-41dd0791bff5",
   "metadata": {},
   "source": [
    "Set your project name."
   ]
  },
  {
   "cell_type": "code",
   "execution_count": null,
   "id": "6e7fc9ff-b79b-424b-a4c7-8414ca5a23e1",
   "metadata": {},
   "outputs": [],
   "source": [
    "PROJECT_ID = \"YOUR-PROJECT-ID\""
   ]
  },
  {
   "cell_type": "markdown",
   "id": "b2ade501-ee83-4c21-a439-60b911929e6e",
   "metadata": {},
   "source": [
    "## Data Transformations and Exploratory Analysis\n",
    "\n",
    "Load the IBM Telco Customer Churn dataset."
   ]
  },
  {
   "cell_type": "code",
   "execution_count": 11,
   "id": "f579cf36-351b-41ae-8f6f-97b75bde26c4",
   "metadata": {
    "tags": []
   },
   "outputs": [],
   "source": [
    "# Specify the path to the CSV file in GCS\n",
    "file_path = \"https://raw.githubusercontent.com/IBM/telco-customer-churn-on-icp4d/refs/heads/master/data/Telco-Customer-Churn.csv\"\n",
    "\n",
    "# Read the CSV file into a Spark DataFrame. Use pd.read_csv to read directly\n",
    "# from an https link and then convert to Spark.\n",
    "df = spark.createDataFrame(\n",
    "    pd.read_csv(file_path)\n",
    ")"
   ]
  },
  {
   "cell_type": "markdown",
   "id": "ddd5a137-47e7-4b66-a977-664dc50a3161",
   "metadata": {},
   "source": [
    "Check for null values in the data, specifically in the `MonthlyCharges` and `TotalCharges` columns."
   ]
  },
  {
   "cell_type": "code",
   "execution_count": 12,
   "id": "ff8fcf6e-6f07-4e8b-ae87-7fef5f132409",
   "metadata": {
    "tags": []
   },
   "outputs": [
    {
     "name": "stdout",
     "output_type": "stream",
     "text": [
      "+--------------+------------+\n",
      "|MonthlyCharges|TotalCharges|\n",
      "+--------------+------------+\n",
      "|             0|           0|\n",
      "+--------------+------------+\n",
      "\n",
      "+--------------+------------+\n",
      "|MonthlyCharges|TotalCharges|\n",
      "+--------------+------------+\n",
      "|             0|          11|\n",
      "+--------------+------------+\n",
      "\n"
     ]
    }
   ],
   "source": [
    "df.select([count(when(isnan(c) | col(c).isNull(), c)).alias(c) for c in [\"MonthlyCharges\", \"TotalCharges\"]]).show()"
   ]
  },
  {
   "cell_type": "markdown",
   "id": "51691326-6eb7-4e06-8f1e-55a581f9f069",
   "metadata": {},
   "source": [
    "Check if `MonthlyCharges` and `TotalCharges` have any misformated values."
   ]
  },
  {
   "cell_type": "code",
   "execution_count": 13,
   "id": "4ccd3420-e805-4ee4-8edd-e040e20228ef",
   "metadata": {
    "tags": []
   },
   "outputs": [
    {
     "name": "stdout",
     "output_type": "stream",
     "text": [
      "+--------------+------------+\n",
      "|MonthlyCharges|TotalCharges|\n",
      "+--------------+------------+\n",
      "|             0|          11|\n",
      "+--------------+------------+\n",
      "\n"
     ]
    }
   ],
   "source": [
    "df.select([count(when(col(c).cast(\"float\").isNull(), c)).alias(c) for c in [\"MonthlyCharges\", \"TotalCharges\"]]).show()"
   ]
  },
  {
   "cell_type": "markdown",
   "id": "ace4905c-f704-40ce-a95f-bf85c3074890",
   "metadata": {},
   "source": [
    "Drop null values and cast the remaining values to float in the `TotalCharges` column."
   ]
  },
  {
   "cell_type": "code",
   "execution_count": 14,
   "id": "55346696-18fb-4399-b7f7-f5fa3f3f2003",
   "metadata": {
    "tags": []
   },
   "outputs": [
    {
     "name": "stdout",
     "output_type": "stream",
     "text": [
      "+----------+------+-------------+-------+----------+------+------------+----------------+---------------+--------------+------------+----------------+-----------+-----------+---------------+--------------+----------------+--------------------+--------------+------------+-----+\n",
      "|customerID|gender|SeniorCitizen|Partner|Dependents|tenure|PhoneService|   MultipleLines|InternetService|OnlineSecurity|OnlineBackup|DeviceProtection|TechSupport|StreamingTV|StreamingMovies|      Contract|PaperlessBilling|       PaymentMethod|MonthlyCharges|TotalCharges|Churn|\n",
      "+----------+------+-------------+-------+----------+------+------------+----------------+---------------+--------------+------------+----------------+-----------+-----------+---------------+--------------+----------------+--------------------+--------------+------------+-----+\n",
      "|7590-VHVEG|Female|            0|    Yes|        No|     1|          No|No phone service|            DSL|            No|         Yes|              No|         No|         No|             No|Month-to-month|             Yes|    Electronic check|         29.85|       29.85|   No|\n",
      "|5575-GNVDE|  Male|            0|     No|        No|    34|         Yes|              No|            DSL|           Yes|          No|             Yes|         No|         No|             No|      One year|              No|        Mailed check|         56.95|      1889.5|   No|\n",
      "|3668-QPYBK|  Male|            0|     No|        No|     2|         Yes|              No|            DSL|           Yes|         Yes|              No|         No|         No|             No|Month-to-month|             Yes|        Mailed check|         53.85|      108.15|  Yes|\n",
      "|7795-CFOCW|  Male|            0|     No|        No|    45|          No|No phone service|            DSL|           Yes|          No|             Yes|        Yes|         No|             No|      One year|              No|Bank transfer (au...|          42.3|     1840.75|   No|\n",
      "|9237-HQITU|Female|            0|     No|        No|     2|         Yes|              No|    Fiber optic|            No|          No|              No|         No|         No|             No|Month-to-month|             Yes|    Electronic check|          70.7|      151.65|  Yes|\n",
      "|9305-CDSKC|Female|            0|     No|        No|     8|         Yes|             Yes|    Fiber optic|            No|          No|             Yes|         No|        Yes|            Yes|Month-to-month|             Yes|    Electronic check|         99.65|       820.5|  Yes|\n",
      "|1452-KIOVK|  Male|            0|     No|       Yes|    22|         Yes|             Yes|    Fiber optic|            No|         Yes|              No|         No|        Yes|             No|Month-to-month|             Yes|Credit card (auto...|          89.1|      1949.4|   No|\n",
      "|6713-OKOMC|Female|            0|     No|        No|    10|          No|No phone service|            DSL|           Yes|          No|              No|         No|         No|             No|Month-to-month|              No|        Mailed check|         29.75|       301.9|   No|\n",
      "|7892-POOKP|Female|            0|    Yes|        No|    28|         Yes|             Yes|    Fiber optic|            No|          No|             Yes|        Yes|        Yes|            Yes|Month-to-month|             Yes|    Electronic check|         104.8|     3046.05|  Yes|\n",
      "|6388-TABGU|  Male|            0|     No|       Yes|    62|         Yes|              No|            DSL|           Yes|         Yes|              No|         No|         No|             No|      One year|              No|Bank transfer (au...|         56.15|     3487.95|   No|\n",
      "+----------+------+-------------+-------+----------+------+------------+----------------+---------------+--------------+------------+----------------+-----------+-----------+---------------+--------------+----------------+--------------------+--------------+------------+-----+\n",
      "only showing top 10 rows\n",
      "\n"
     ]
    }
   ],
   "source": [
    "# Drop records where TotalCharges has null or string values that can't be cast to float\n",
    "df = df.filter(col(\"TotalCharges\").cast(\"float\").isNotNull())\n",
    "\n",
    "# Transform the data type of total_charges to float\n",
    "df = df.withColumn(\"TotalCharges\", col(\"TotalCharges\").cast(FloatType()))\n",
    "\n",
    "df.show(10)"
   ]
  },
  {
   "cell_type": "markdown",
   "id": "1e37a8d9-a13f-49e5-b877-fa7b6a5c2c17",
   "metadata": {
    "tags": []
   },
   "source": [
    "## Visualize the data\n",
    "\n",
    "Visualize churn rates by account types."
   ]
  },
  {
   "cell_type": "code",
   "execution_count": 15,
   "id": "b05a2d91-77ae-4bea-9b4d-a8f709219705",
   "metadata": {
    "tags": []
   },
   "outputs": [
    {
     "name": "stderr",
     "output_type": "stream",
     "text": [
      "                                                                                \r"
     ]
    },
    {
     "data": {
      "text/plain": [
       "<Axes: title={'center': 'Customer Count by Contract Type and Churn'}, xlabel='Contract'>"
      ]
     },
     "execution_count": 15,
     "metadata": {},
     "output_type": "execute_result"
    },
    {
     "data": {
      "image/png": "[encoded data removed]",
      "text/plain": [
       "<Figure size 1000x700 with 1 Axes>"
      ]
     },
     "metadata": {},
     "output_type": "display_data"
    }
   ],
   "source": [
    "# Aggregate data\n",
    "df_plot_data = df.groupBy(\"Contract\", \"Churn\").count()\n",
    "\n",
    "# Convert to Pandas DataFrame for plotting\n",
    "pdf_plot_data = df_plot_data.toPandas()\n",
    "\n",
    "# Pivot DataFrame to get \"contract\" as index, \"churn\" as columns, and \"count\" as values\n",
    "pdf_pivoted = pdf_plot_data.pivot(index='Contract', columns='Churn', values='count')\n",
    "\n",
    "# Plot\n",
    "pdf_pivoted.plot(kind='bar', stacked=True, figsize=(10, 7), title=\"Customer Count by Contract Type and Churn\")"
   ]
  },
  {
   "cell_type": "markdown",
   "id": "4f9cdce9-c54e-4fe2-b843-3fc83f9c6ef2",
   "metadata": {
    "tags": []
   },
   "source": [
    "Next, visualize churn rate by account tenure."
   ]
  },
  {
   "cell_type": "code",
   "execution_count": 18,
   "id": "628616a0-992f-4b6c-8668-6a3e6b74e179",
   "metadata": {
    "tags": []
   },
   "outputs": [
    {
     "data": {
      "text/plain": [
       "<Axes: title={'center': 'Account Tenure by Churn'}, xlabel='Tenure (Months)', ylabel='Count'>"
      ]
     },
     "execution_count": 18,
     "metadata": {},
     "output_type": "execute_result"
    },
    {
     "data": {
      "image/png": "[encoded data removed]",
      "text/plain": [
       "<Figure size 1200x700 with 1 Axes>"
      ]
     },
     "metadata": {},
     "output_type": "display_data"
    }
   ],
   "source": [
    "# Aggregate data\n",
    "histogram_data = df.groupBy(\"Tenure\", \"Churn\").count().orderBy(\"Tenure\")\n",
    "\n",
    "# Convert to Pandas DataFrame\n",
    "pandas_histogram_data = histogram_data.toPandas()\n",
    "\n",
    "# Pivot the data for stacked bar chart\n",
    "pandas_histogram_data_pivot = pandas_histogram_data.pivot(index='Tenure', columns='Churn', values='count').fillna(0)\n",
    "\n",
    "# Plot\n",
    "pandas_histogram_data_pivot.plot(\n",
    "    kind='bar', \n",
    "    stacked=True, \n",
    "    figsize=(12, 7),  # Adjust figure size as needed\n",
    "    title=\"Account Tenure by Churn\",\n",
    "    xlabel=\"Tenure (Months)\",\n",
    "    ylabel=\"Count\"\n",
    ")"
   ]
  },
  {
   "cell_type": "markdown",
   "id": "69f84256-94e9-4040-99e8-a8136a1ce138",
   "metadata": {},
   "source": [
    "Convert account tenure into buckets, converting from monthly to yearly."
   ]
  },
  {
   "cell_type": "code",
   "execution_count": null,
   "id": "219ff5ec-58b8-40b3-bddc-55e7e0e0c226",
   "metadata": {
    "tags": []
   },
   "outputs": [],
   "source": [
    "# Bucket the \"Tenure\" field due to disribution\n",
    "df = df.withColumn(\"TenureBucket\", \n",
    "                                    when(col(\"Tenure\") <= 12, \"Tenure_0-12\") \\\n",
    "                                    .when((col(\"Tenure\") > 12) & (col(\"Tenure\") <= 24), \"Tenure_12-24\") \\\n",
    "                                    .when((col(\"Tenure\") > 24) & (col(\"Tenure\") <= 48), \"Tenure_24-48\") \\\n",
    "                                    .when((col(\"Tenure\") > 48) & (col(\"Tenure\") <= 60), \"Tenure_48-60\") \\\n",
    "                                    .otherwise(\"Tenure_GT_60\"))\n",
    "\n",
    "# Drop the original \"Tenure\" column\n",
    "df = df.drop(\"Tenure\")\n",
    "\n",
    "# Transform boolean fields to \"Yes\" or \"No\" strings\n",
    "for column in ['Partner', 'Dependents', 'PhoneService', 'PaperlessBilling']:\n",
    "    df = df.withColumn(column, when(col(column) == True, \"Yes\").otherwise(\"No\"))\n",
    "\n",
    "# Replace \"No internet service\" with \"No\" in specified columns\n",
    "for column in ['OnlineSecurity', 'OnlineBackup', 'DeviceProtection', 'TechSupport', 'StreamingTV', 'StreamingMovies']:\n",
    "    df = df.withColumn(column, when(col(column) == \"No internet service\", \"No\").otherwise(col(column)))\n",
    "\n",
    "# Change \"Churn\" values to 1 and 0\n",
    "df = df.withColumn(\"Churn\", when(col(\"Churn\") == True, 1).otherwise(0)).cache()"
   ]
  },
  {
   "cell_type": "markdown",
   "id": "39fb6ed0-f457-45d5-b590-8b6041bb352f",
   "metadata": {
    "tags": []
   },
   "source": [
    "## Unstructured data transformations\n",
    "Perform sentiment analysis on a series of chat transcripts using a finetuned version of the [DistilBert model](https://huggingface.co/distilbert/distilbert-base-uncased-finetuned-sst-2-english)."
   ]
  },
  {
   "cell_type": "code",
   "execution_count": 11,
   "id": "8abf9370-938b-4368-a300-e2a9064a48b6",
   "metadata": {
    "tags": []
   },
   "outputs": [
    {
     "data": {
      "application/vnd.jupyter.widget-view+json": {
       "model_id": "3cd67f4d13d94f6bb2d427f7a02e00a9",
       "version_major": 2,
       "version_minor": 0
      },
      "text/plain": [
       "config.json:   0%|          | 0.00/629 [00:00<?, ?B/s]"
      ]
     },
     "metadata": {},
     "output_type": "display_data"
    },
    {
     "data": {
      "application/vnd.jupyter.widget-view+json": {
       "model_id": "8dd49d45aa914d25808d84de7854cd36",
       "version_major": 2,
       "version_minor": 0
      },
      "text/plain": [
       "pytorch_model.bin:   0%|          | 0.00/268M [00:00<?, ?B/s]"
      ]
     },
     "metadata": {},
     "output_type": "display_data"
    },
    {
     "data": {
      "application/vnd.jupyter.widget-view+json": {
       "model_id": "9c6ce9cdc9bf4b5d972877cffa4e1c72",
       "version_major": 2,
       "version_minor": 0
      },
      "text/plain": [
       "tokenizer_config.json:   0%|          | 0.00/48.0 [00:00<?, ?B/s]"
      ]
     },
     "metadata": {},
     "output_type": "display_data"
    },
    {
     "data": {
      "application/vnd.jupyter.widget-view+json": {
       "model_id": "d7fcdbc14e784bb689c825f4ce465857",
       "version_major": 2,
       "version_minor": 0
      },
      "text/plain": [
       "vocab.txt:   0%|          | 0.00/232k [00:00<?, ?B/s]"
      ]
     },
     "metadata": {},
     "output_type": "display_data"
    },
    {
     "name": "stderr",
     "output_type": "stream",
     "text": [
      "[Stage 19:>                                                         (0 + 1) / 1]\r"
     ]
    },
    {
     "name": "stdout",
     "output_type": "stream",
     "text": [
      "+----------+--------------------+---------+\n",
      "|customerID|                text|sentiment|\n",
      "+----------+--------------------+---------+\n",
      "|7590-VHVEG|The customer was ...| NEGATIVE|\n",
      "|5575-GNVDE|The customer was ...| NEGATIVE|\n",
      "|3668-QPYBK|The customer was ...| POSITIVE|\n",
      "|7795-CFOCW|The customer was ...| NEGATIVE|\n",
      "|9237-HQITU|A quick and frien...| POSITIVE|\n",
      "|9305-CDSKC|A pleasant conver...| POSITIVE|\n",
      "|1452-KIOVK|The customer was ...| NEGATIVE|\n",
      "|6713-OKOMC|The customer was ...| NEGATIVE|\n",
      "|7892-POOKP|A friendly exchan...| POSITIVE|\n",
      "|6388-TABGU|The customer was ...| NEGATIVE|\n",
      "|9763-GRSKD|The customer was ...| NEGATIVE|\n",
      "|7469-LKBCI|The customer was ...| NEGATIVE|\n",
      "|8091-TTVAX|The customer was ...| NEGATIVE|\n",
      "|0280-XJGEX|A friendly chat a...| POSITIVE|\n",
      "|5129-JLPIS|The customer was ...| NEGATIVE|\n",
      "|3655-SNQYZ|The customer was ...| NEGATIVE|\n",
      "|8191-XWSZG|The customer was ...| NEGATIVE|\n",
      "|9959-WOFKT|The customer was ...| NEGATIVE|\n",
      "|4190-MFLUW|A friendly exchan...| POSITIVE|\n",
      "|4183-MYFRB|The customer was ...| NEGATIVE|\n",
      "+----------+--------------------+---------+\n",
      "only showing top 20 rows\n",
      "\n"
     ]
    },
    {
     "name": "stderr",
     "output_type": "stream",
     "text": [
      "                                                                                \r"
     ]
    }
   ],
   "source": [
    "# Specify the model name and revision - downloads from Huggingface\n",
    "model_name = \"distilbert-base-uncased-finetuned-sst-2-english\"\n",
    "model_revision = \"af0f99b\" \n",
    "\n",
    "# Load pre-trained sentiment analysis model with specified model and revision\n",
    "sentiment_pipeline = pipeline(\"sentiment-analysis\", model=model_name, revision=model_revision)\n",
    "\n",
    "# Define a UDF to perform sentiment analysis\n",
    "@udf(returnType=StringType())\n",
    "def analyze_sentiment(text):\n",
    "    result = sentiment_pipeline(text)[0]\n",
    "    return result['label']\n",
    "\n",
    "# Specify the path to the JSON file in GCS\n",
    "file_path = f\"gs://{BUCKET}/unstructured-data/output/chat_transcripts.json\"\n",
    "\n",
    "# Read the JSON file into a Spark DataFrame\n",
    "df_sentiment = spark.read.json(file_path)\n",
    "\n",
    "# Rename the \"support_transcript\" column to \"text\" (required for this particular model)\n",
    "df_sentiment = df_sentiment.withColumnRenamed(\"support_transcript\", \"text\")\n",
    "\n",
    "# Remove records with null values for text\n",
    "df_sentiment = df_sentiment.filter(df_sentiment[\"text\"].isNotNull() & (df_sentiment[\"text\"] != \"\"))\n",
    "\n",
    "# Analyze the \"support_transcript\" field for sentiment and retain \"customer_id\"\n",
    "df_sentiment = df_sentiment.withColumn(\"sentiment\", analyze_sentiment(df_sentiment[\"text\"])).cache()\n",
    "\n",
    "# Display the results\n",
    "df_sentiment.show()"
   ]
  },
  {
   "cell_type": "markdown",
   "id": "0943683a-1aa7-4b6d-9a8a-846008b6076c",
   "metadata": {
    "tags": []
   },
   "source": [
    "## Join data\n",
    "\n",
    "Combine the transformed transcript data to the customer churn data, then save this to Cloud Storage."
   ]
  },
  {
   "cell_type": "code",
   "execution_count": 15,
   "id": "95e1b691-d216-43bd-9269-55c6a146c774",
   "metadata": {
    "tags": []
   },
   "outputs": [],
   "source": [
    "# Join the transformed and sentiment data, and save to GCS\n",
    "\n",
    "# Specify the output path in GCS\n",
    "training_data_path = f\"gs://{BUCKET}/curated/data/training_data\"\n",
    "\n",
    "# Join the DataFrames on customer_id\n",
    "df_combined = df_sentiment.join(df, on=\"CustomerID\", how=\"inner\") \n",
    "\n",
    "# # Write the DataFrame to GCS in Parquet format\n",
    "df_combined.write.format(\"parquet\").mode(\"overwrite\").save(output_path)"
   ]
  },
  {
   "cell_type": "markdown",
   "id": "a4867478-0467-4e29-8d49-ab0b4e41a197",
   "metadata": {},
   "source": [
    "# Model Training and Evaluation\n",
    "\n",
    "Next, you train an XGBoost model using the newly processed data. \n",
    "\n",
    "XGBoost does not support Spark's dynamic allocation feature. To use XGBoost, disable this first by restarting the Spark Session."
   ]
  },
  {
   "cell_type": "code",
   "execution_count": 16,
   "id": "235b509b-0a8c-40d8-8305-15a0930c4015",
   "metadata": {},
   "outputs": [],
   "source": [
    "spark.stop()\n",
    "spark = SparkSession.builder.config(\"spark.dynamicAllocation.enabled\", \"false\").getOrCreate()"
   ]
  },
  {
   "cell_type": "markdown",
   "id": "8346318f-5267-43c4-9153-9fc7fe0e21fd",
   "metadata": {},
   "source": [
    "Load the data again in the new Spark Session."
   ]
  },
  {
   "cell_type": "code",
   "execution_count": 17,
   "id": "7a361ece-9bc9-4e66-8c09-f6c6c3373bb4",
   "metadata": {},
   "outputs": [
    {
     "name": "stderr",
     "output_type": "stream",
     "text": [
      "                                                                                \r"
     ]
    }
   ],
   "source": [
    "df_train = spark.read.parquet(training_data_path)"
   ]
  },
  {
   "cell_type": "markdown",
   "id": "58137276-e31a-4260-bd86-897c31e01757",
   "metadata": {
    "tags": []
   },
   "source": [
    "## Perform feature engineering\n",
    "\n",
    "Convert the data to be usable with SparkML and SparkXGBoost.\n",
    "- String Indexers map the string samples in the data to numbers, which \"shrinks\" the size of the data being processed.\n",
    "- One Hot Encoders convert the categorical data into sparse vectors.\n",
    "- A Vector Assembler is used to format the data per SparkML's requirements."
   ]
  },
  {
   "cell_type": "code",
   "execution_count": 25,
   "id": "4d7c39eb-076d-44d6-874d-e1f727953330",
   "metadata": {},
   "outputs": [],
   "source": [
    "categorical_cols = ['Partner', 'Dependents', 'PhoneService', 'MultipleLines', \n",
    "                   'InternetService', 'OnlineSecurity', 'OnlineBackup', 'DeviceProtection', \n",
    "                   'TechSupport', 'StreamingTV', 'StreamingMovies', 'Contract', \n",
    "                   'PaperlessBilling', 'PaymentMethod', 'TenureBucket', 'sentiment']\n",
    "numerical_cols = ['SeniorCitizen', 'MonthlyCharges', 'TotalCharges'] \n",
    "\n",
    "indexers = [StringIndexer(inputCol=c, outputCol=c + \"_index\", handleInvalid=\"keep\") for c in categorical_cols]  \n",
    "encoders = [OneHotEncoder(inputCol=c + \"_index\", outputCol=c + \"_encoded\", handleInvalid=\"keep\") for c in categorical_cols] \n",
    "\n",
    "assembler = VectorAssembler(inputCols=[c + \"_encoded\" for c in categorical_cols] + numerical_cols, outputCol=\"features\", handleInvalid=\"keep\") \n",
    "\n",
    "# Apply transformations:\n",
    "indexed_df = Pipeline(stages=indexers).fit(df_train).transform(df_train)\n",
    "encoded_df = Pipeline(stages=encoders).fit(indexed_df).transform(indexed_df)\n",
    "transformed_data = assembler.transform(encoded_df)"
   ]
  },
  {
   "cell_type": "markdown",
   "id": "dc49edcb-1b2f-40f6-b08d-31cc18be7db4",
   "metadata": {
    "tags": []
   },
   "source": [
    "## Train the model and generate predictions\n",
    "\n",
    "Use the [SparkXGBoostClassifier](https://xgboost.readthedocs.io/en/latest/tutorials/spark_estimator.html#sparkxgbclassifier) to create a SparkML model. This is passed into a SparkML [pipeline](https://spark.apache.org/docs/latest/api/python/reference/api/pyspark.ml.Pipeline.html) object."
   ]
  },
  {
   "cell_type": "code",
   "execution_count": 3,
   "id": "8bedfb96-f79f-4eb1-a163-b1fc719089de",
   "metadata": {
    "tags": []
   },
   "outputs": [
    {
     "ename": "NameError",
     "evalue": "name 'SparkXGBClassifier' is not defined",
     "output_type": "error",
     "traceback": [
      "\u001b[0;31m---------------------------------------------------------------------------\u001b[0m",
      "\u001b[0;31mNameError\u001b[0m                                 Traceback (most recent call last)",
      "Cell \u001b[0;32mIn[3], line 1\u001b[0m\n\u001b[0;32m----> 1\u001b[0m xgb \u001b[38;5;241m=\u001b[39m \u001b[43mSparkXGBClassifier\u001b[49m(label_col\u001b[38;5;241m=\u001b[39m\u001b[38;5;124m\"\u001b[39m\u001b[38;5;124mchurn\u001b[39m\u001b[38;5;124m\"\u001b[39m, features_col\u001b[38;5;241m=\u001b[39m\u001b[38;5;124m\"\u001b[39m\u001b[38;5;124mfeatures\u001b[39m\u001b[38;5;124m\"\u001b[39m, num_workers\u001b[38;5;241m=\u001b[39m\u001b[38;5;241m2\u001b[39m, missing\u001b[38;5;241m=\u001b[39m\u001b[38;5;241m0.0\u001b[39m)\n\u001b[1;32m      3\u001b[0m pipeline \u001b[38;5;241m=\u001b[39m Pipeline(stages\u001b[38;5;241m=\u001b[39m[xgb])\n",
      "\u001b[0;31mNameError\u001b[0m: name 'SparkXGBClassifier' is not defined"
     ]
    }
   ],
   "source": [
    "xgb = SparkXGBClassifier(label_col=\"churn\", features_col=\"features\", num_workers=2, missing=0.0)\n",
    "\n",
    "pipeline = Pipeline(stages=[xgb])"
   ]
  },
  {
   "cell_type": "markdown",
   "id": "88dae1ea-b329-4aba-bedc-aed7ff8a1e55",
   "metadata": {
    "tags": []
   },
   "source": [
    "Split the data into training and test datasets."
   ]
  },
  {
   "cell_type": "code",
   "execution_count": 2,
   "id": "8d648b41-a6a8-4b67-9fce-ca5c4475c790",
   "metadata": {
    "tags": []
   },
   "outputs": [
    {
     "ename": "NameError",
     "evalue": "name 'transformed_data' is not defined",
     "output_type": "error",
     "traceback": [
      "\u001b[0;31m---------------------------------------------------------------------------\u001b[0m",
      "\u001b[0;31mNameError\u001b[0m                                 Traceback (most recent call last)",
      "Cell \u001b[0;32mIn[2], line 1\u001b[0m\n\u001b[0;32m----> 1\u001b[0m train_data, test_data \u001b[38;5;241m=\u001b[39m \u001b[43mtransformed_data\u001b[49m\u001b[38;5;241m.\u001b[39mrandomSplit([\u001b[38;5;241m0.8\u001b[39m, \u001b[38;5;241m0.2\u001b[39m], seed\u001b[38;5;241m=\u001b[39m\u001b[38;5;241m42\u001b[39m) \n",
      "\u001b[0;31mNameError\u001b[0m: name 'transformed_data' is not defined"
     ]
    }
   ],
   "source": [
    "train_data, test_data = transformed_data.randomSplit([0.8, 0.2], seed=42) "
   ]
  },
  {
   "cell_type": "markdown",
   "id": "c993d2a1-6ea2-471d-9289-fe4844e8a624",
   "metadata": {
    "tags": []
   },
   "source": [
    "Fit the model using the training data."
   ]
  },
  {
   "cell_type": "code",
   "execution_count": null,
   "id": "3ec8fe9a-f1f6-490f-acb3-6978621913cd",
   "metadata": {},
   "outputs": [],
   "source": [
    "model = pipeline.fit(train_data)\n",
    "print(\"Model training successful.\")"
   ]
  },
  {
   "cell_type": "markdown",
   "id": "8d3d4818-d509-4089-961f-eb98377eefa8",
   "metadata": {},
   "source": [
    "Generate predictions on the test data."
   ]
  },
  {
   "cell_type": "code",
   "execution_count": null,
   "id": "98238a24-3545-4fea-acc8-09d696c73d1e",
   "metadata": {},
   "outputs": [],
   "source": [
    "predictions = model.transform(test_data)"
   ]
  },
  {
   "cell_type": "markdown",
   "id": "c094288c-8f29-463b-9634-e5738c6d2188",
   "metadata": {},
   "source": [
    "## Evaluate the model.\n",
    "\n",
    "Evaluate the performance of the model. The metrics used are:\n",
    "- [AUC](https://developers.google.com/machine-learning/crash-course/classification/roc-and-auc)\n",
    "- PRC\n",
    "- [Accuracy](https://developers.google.com/machine-learning/crash-course/classification/accuracy-precision-recall#accuracy)\n",
    "- [F1 score](https://developers.google.com/machine-learning/crash-course/classification/accuracy-precision-recall#expandable-2)\n",
    "- [Precision](https://developers.google.com/machine-learning/crash-course/classification/accuracy-precision-recall#precision)\n",
    "- [Recall](https://developers.google.com/machine-learning/crash-course/classification/accuracy-precision-recall#recall_or_true_positive_rate)"
   ]
  },
  {
   "cell_type": "code",
   "execution_count": null,
   "id": "ed0621ab-73b5-4a01-9fa2-e8b8e7d7bbfc",
   "metadata": {},
   "outputs": [],
   "source": [
    "evaluator_binary = BinaryClassificationEvaluator(labelCol=\"churn\", rawPredictionCol=\"rawPrediction\")\n",
    "auc = evaluator_binary.evaluate(predictions, {evaluator_binary.metricName: \"areaUnderROC\"})\n",
    "print(f\"Area Under ROC (AUC): {auc:.4f}\")\n",
    "\n",
    "prc = evaluator_binary.evaluate(predictions, {evaluator_binary.metricName: \"areaUnderPR\"})\n",
    "print(f\"Area Under PR Curve (PRC): {prc:.4f}\")\n",
    "\n",
    "evaluator_multi = MulticlassClassificationEvaluator(labelCol=\"churn\", predictionCol=\"prediction\")\n",
    "accuracy = evaluator_multi.evaluate(predictions, {evaluator_multi.metricName: \"accuracy\"})\n",
    "print(f\"Accuracy: {accuracy:.4f}\")\n",
    "\n",
    "f1 = evaluator_multi.evaluate(predictions, {evaluator_multi.metricName: \"f1\"})\n",
    "print(f\"F1 Score: {f1:.4f}\")\n",
    "\n",
    "weighted_precision = evaluator_multi.evaluate(predictions, {evaluator_multi.metricName: \"weightedPrecision\"})\n",
    "print(f\"Weighted Precision: {weighted_precision:.4f}\")\n",
    "\n",
    "weighted_recall = evaluator_multi.evaluate(predictions, {evaluator_multi.metricName: \"weightedRecall\"})\n",
    "print(f\"Weighted Recall: {weighted_recall:.4f}\")"
   ]
  },
  {
   "cell_type": "markdown",
   "id": "c3735271-a6b3-4077-b80e-c362eb22cacf",
   "metadata": {
    "tags": []
   },
   "source": [
    "## Save to Cloud storage\n",
    "\n",
    "Save the train data, test data, and XGBoost model to Cloud storage."
   ]
  },
  {
   "cell_type": "code",
   "execution_count": null,
   "id": "86d3964a-4314-4074-a673-efd1d7016e36",
   "metadata": {},
   "outputs": [],
   "source": [
    "# Specify GCS bucket training data path\n",
    "data_path = f\"gs://{bucket}/curated/models/churn_prediction\"\n",
    "\n",
    "# Save transformed training data\n",
    "train_data.write.parquet(f\"{data_path}/train_data\", mode=\"overwrite\")\n",
    "\n",
    "# Save transformed test data\n",
    "test_data.write.parquet(f\"{data_path}/test_data\", mode=\"overwrite\")\n",
    "\n",
    "# Save the trained model to GCS:\n",
    "model.write().overwrite().save(f\"{data_path}/xgboost_model\")"
   ]
  },
  {
   "cell_type": "markdown",
   "id": "cceb3128-cef5-496b-ba94-bc3c3c7622c0",
   "metadata": {},
   "source": [
    "# Run Batch Inference on Spark\n",
    "\n",
    "Load the model and test data from Cloud Storage into Spark."
   ]
  },
  {
   "cell_type": "code",
   "execution_count": null,
   "id": "41e4f56d-494d-434a-8540-07d720582a9b",
   "metadata": {},
   "outputs": [],
   "source": [
    "# Specify my GCP bucket\n",
    "model_bucket = f\"gs://{BUCKET}/curated/models/churn_prediction\"\n",
    "\n",
    "# Load transformed training data\n",
    "test_data_loaded = spark.read.parquet(f\"{model_bucket}/test_data\")\n",
    "\n",
    "# Load the trained model\n",
    "model_loaded = PipelineModel.load(f\"{model_bucket}/xgboost_model\")"
   ]
  },
  {
   "cell_type": "markdown",
   "id": "828831e8-e043-459f-a68a-19e5e0377151",
   "metadata": {},
   "source": [
    "Generate predictions on the test data."
   ]
  },
  {
   "cell_type": "code",
   "execution_count": null,
   "id": "b28c16db-1b66-460a-aafb-2762d23d0062",
   "metadata": {},
   "outputs": [],
   "source": [
    "predictions = model_loaded.transform(test_data_loaded)\n",
    "\n",
    "# Filter down to only include the customer_id and prediction columns\n",
    "predictions = predictions.select(\"customer_id\", \"prediction\")\n",
    "\n",
    "# Display sample data\n",
    "predictions.show()"
   ]
  },
  {
   "cell_type": "markdown",
   "id": "5cd2a047-3e3a-420e-b7d5-6374aa9f6e3d",
   "metadata": {
    "tags": []
   },
   "source": [
    "### Save predictions to BigQuery\n",
    "\n",
    "Create a BigQuery dataset to store your predictions in."
   ]
  },
  {
   "cell_type": "code",
   "execution_count": null,
   "id": "e5e0d053-19cc-4fcb-9736-c5e4588c1ac7",
   "metadata": {},
   "outputs": [],
   "source": [
    "\n",
    "\n",
    "# Construct a BigQuery client object.\n",
    "client = bigquery.Client()\n",
    "\n",
    "# Set dataset_id to the ID of the dataset to create.\n",
    "dataset_id = f\"{PROJECT_ID}.predictions\"\n",
    "\n",
    "# Construct a full Dataset object to send to the API.\n",
    "dataset = bigquery.Dataset(dataset_id)\n",
    "\n",
    "# TODO(developer): Specify the geographic location where the dataset should reside.\n",
    "dataset.location = \"us-central1\"\n",
    "\n",
    "# Send the dataset to the API for creation, with an explicit timeout.\n",
    "dataset = client.create_dataset(dataset, timeout=30)  # Make an API request."
   ]
  },
  {
   "cell_type": "markdown",
   "id": "2ece491f",
   "metadata": {},
   "source": [
    "Save the predictions directly from Spark to BigQuery."
   ]
  },
  {
   "cell_type": "code",
   "execution_count": null,
   "id": "0da6e2e1-4b51-49b6-898b-e64e05a4346a",
   "metadata": {},
   "outputs": [],
   "source": [
    "# Define table name to save predictions\n",
    "table_name = 'predictions'\n",
    "\n",
    "# Write predictions DataFrame to a Delta table\n",
    "predictions.write \\\n",
    "    .format(\"bigquery\") \\\n",
    "    .mode(\"overwrite\") \\\n",
    "    .option(\"writeMethod\", \"direct\") \\\n",
    "    .save(f'{dataset_id}.{table_name}')"
   ]
  }
 ],
 "metadata": {
  "environment": {
   "kernel": "9c39b79e5d2e7072beb4bd59-runtime-0000a91841a7",
   "name": "workbench-notebooks.m125",
   "type": "gcloud",
   "uri": "us-docker.pkg.dev/deeplearning-platform-release/gcr.io/workbench-notebooks:m125"
  },
  "kernelspec": {
   "display_name": "121124 on Serverless Spark (Remote)",
   "language": "python",
   "name": "9c39b79e5d2e7072beb4bd59-runtime-0000a91841a7"
  },
  "language_info": {
   "codemirror_mode": {
    "name": "ipython",
    "version": 3
   },
   "file_extension": ".py",
   "mimetype": "text/x-python",
   "name": "python",
   "nbconvert_exporter": "python",
   "pygments_lexer": "ipython3",
   "version": "3.12.3"
  }
 },
 "nbformat": 4,
 "nbformat_minor": 5
}
