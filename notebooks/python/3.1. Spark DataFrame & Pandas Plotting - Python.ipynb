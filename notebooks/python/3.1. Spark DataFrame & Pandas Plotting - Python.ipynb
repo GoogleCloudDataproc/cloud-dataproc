{
 "cells": [
  {
   "cell_type": "code",
   "execution_count": 1,
   "metadata": {},
   "outputs": [],
   "source": [
    "# Copyright 2020 Google LLC\n",
    "#\n",
    "# Licensed under the Apache License, Version 2.0 (the \"License\");\n",
    "# you may not use this file except in compliance with the License.\n",
    "# You may obtain a copy of the License at\n",
    "#\n",
    "#     https://www.apache.org/licenses/LICENSE-2.0\n",
    "#\n",
    "# Unless required by applicable law or agreed to in writing, software\n",
    "# distributed under the License is distributed on an \"AS IS\" BASIS,\n",
    "# WITHOUT WARRANTIES OR CONDITIONS OF ANY KIND, either express or implied.\n",
    "# See the License for the specific language governing permissions and\n",
    "# limitations under the License."
   ]
  },
  {
   "cell_type": "markdown",
   "metadata": {},
   "source": [
    "# 3.1. Spark DataFrames & Pandas Plotting - Python"
   ]
  },
  {
   "cell_type": "markdown",
   "metadata": {},
   "source": [
    "### Create Dataproc Cluster with Jupyter\n",
    "\n",
    "This notebook is designed to be run on Google Cloud Dataproc.\n",
    "\n",
    "Follow the links below for instructions on how to create a Dataproc Cluster with the Juypter component installed.\n",
    "\n",
    "* [Tutorial - Install and run a Jupyter notebook on a Dataproc cluster](https://cloud.google.com/dataproc/docs/tutorials/jupyter-notebook)\n",
    "* [Blog post - Apache Spark and Jupyter Notebooks made easy with Dataproc component gateway](https://medium.com/google-cloud/apache-spark-and-jupyter-notebooks-made-easy-with-dataproc-component-gateway-fa91d48d6a5a)"
   ]
  },
  {
   "cell_type": "markdown",
   "metadata": {},
   "source": [
    "### Python 3 Kernel\n",
    "\n",
    "Use a Python 3 kernel (not PySpark) to allow you to configure the SparkSession in the notebook and include the [spark-bigquery-connector](https://github.com/GoogleCloudDataproc/spark-bigquery-connector) required to use the [BigQuery Storage API](https://cloud.google.com/bigquery/docs/reference/storage)."
   ]
  },
  {
   "cell_type": "markdown",
   "metadata": {},
   "source": [
    "### Scala Version\n",
    "\n",
    "Check what version of Scala you are running so you can include the correct spark-bigquery-connector jar "
   ]
  },
  {
   "cell_type": "code",
   "execution_count": 2,
   "metadata": {},
   "outputs": [
    {
     "name": "stdout",
     "output_type": "stream",
     "text": [
      "cat: /release: No such file or directory\n",
      "Scala code runner version 2.11.12 -- Copyright 2002-2017, LAMP/EPFL\n"
     ]
    }
   ],
   "source": [
    "!scala -version"
   ]
  },
  {
   "cell_type": "markdown",
   "metadata": {},
   "source": [
    "### Create Spark Session\n",
    "\n",
    "Include the correct version of the spark-bigquery-connector jar\n",
    "\n",
    "Scala version 2.11 - `'gs://spark-lib/bigquery/spark-bigquery-latest.jar'`.\n",
    "\n",
    "Scala version 2.12 - `'gs://spark-lib/bigquery/spark-bigquery-latest_2.12.jar'`."
   ]
  },
  {
   "cell_type": "code",
   "execution_count": 3,
   "metadata": {},
   "outputs": [],
   "source": [
    "from pyspark.sql import SparkSession\n",
    "spark = SparkSession.builder \\\n",
    "  .appName('Spark DataFrames & Pandas Plotting')\\\n",
    "  .config('spark.jars', 'gs://spark-lib/bigquery/spark-bigquery-latest.jar') \\\n",
    "  .getOrCreate()"
   ]
  },
  {
   "cell_type": "markdown",
   "metadata": {},
   "source": [
    "### Enable repl.eagerEval\n",
    "\n",
    "This will output the results of DataFrames in each step without the new need to show `df.show()` and also improves the formatting of the output"
   ]
  },
  {
   "cell_type": "code",
   "execution_count": 4,
   "metadata": {},
   "outputs": [],
   "source": [
    "spark.conf.set(\"spark.sql.repl.eagerEval.enabled\",True)"
   ]
  },
  {
   "cell_type": "markdown",
   "metadata": {},
   "source": [
    "### Read BigQuery table into Spark DataFrame\n",
    "\n",
    "Use `filter()` to query data from a partitioned table."
   ]
  },
  {
   "cell_type": "code",
   "execution_count": 5,
   "metadata": {},
   "outputs": [
    {
     "name": "stdout",
     "output_type": "stream",
     "text": [
      "root\n",
      " |-- datehour: timestamp (nullable = true)\n",
      " |-- wiki: string (nullable = true)\n",
      " |-- title: string (nullable = true)\n",
      " |-- views: long (nullable = true)\n",
      "\n"
     ]
    }
   ],
   "source": [
    "table = \"bigquery-public-data.wikipedia.pageviews_2020\"\n",
    "\n",
    "df_wiki_pageviews = spark.read \\\n",
    "  .format(\"bigquery\") \\\n",
    "  .option(\"table\", table) \\\n",
    "  .option(\"filter\", \"datehour >= '2020-03-01' AND datehour < '2020-03-02'\") \\\n",
    "  .load()\n",
    "\n",
    "df_wiki_pageviews.printSchema()"
   ]
  },
  {
   "cell_type": "markdown",
   "metadata": {},
   "source": [
    "Select required columns and apply a filter using `where()` which is an alias for `filter()` then cache the table"
   ]
  },
  {
   "cell_type": "code",
   "execution_count": 6,
   "metadata": {},
   "outputs": [
    {
     "data": {
      "text/html": [
       "<table border='1'>\n",
       "<tr><th>datehour</th><th>wiki</th><th>views</th></tr>\n",
       "<tr><td>2020-03-01 23:00:00</td><td>en</td><td>3242</td></tr>\n",
       "<tr><td>2020-03-01 22:00:00</td><td>en</td><td>2368</td></tr>\n",
       "<tr><td>2020-03-01 22:00:00</td><td>en</td><td>2360</td></tr>\n",
       "<tr><td>2020-03-01 22:00:00</td><td>en</td><td>2223</td></tr>\n",
       "<tr><td>2020-03-01 22:00:00</td><td>en</td><td>1398</td></tr>\n",
       "<tr><td>2020-03-01 23:00:00</td><td>en</td><td>1872</td></tr>\n",
       "<tr><td>2020-03-01 23:00:00</td><td>en</td><td>136620</td></tr>\n",
       "<tr><td>2020-03-01 23:00:00</td><td>en</td><td>1084</td></tr>\n",
       "<tr><td>2020-03-01 23:00:00</td><td>en</td><td>1946</td></tr>\n",
       "<tr><td>2020-03-01 23:00:00</td><td>en</td><td>8313</td></tr>\n",
       "<tr><td>2020-03-01 23:00:00</td><td>en</td><td>1084</td></tr>\n",
       "<tr><td>2020-03-01 22:00:00</td><td>en</td><td>3524</td></tr>\n",
       "<tr><td>2020-03-01 22:00:00</td><td>en</td><td>1328</td></tr>\n",
       "<tr><td>2020-03-01 22:00:00</td><td>en</td><td>1297</td></tr>\n",
       "<tr><td>2020-03-01 23:00:00</td><td>en</td><td>1968</td></tr>\n",
       "<tr><td>2020-03-01 22:00:00</td><td>en</td><td>1139</td></tr>\n",
       "<tr><td>2020-03-01 22:00:00</td><td>en</td><td>1006</td></tr>\n",
       "<tr><td>2020-03-01 23:00:00</td><td>en</td><td>1511</td></tr>\n",
       "<tr><td>2020-03-01 23:00:00</td><td>en</td><td>1526</td></tr>\n",
       "<tr><td>2020-03-01 22:00:00</td><td>en</td><td>1405</td></tr>\n",
       "</table>\n",
       "only showing top 20 rows\n"
      ],
      "text/plain": [
       "+-------------------+----+------+\n",
       "|           datehour|wiki| views|\n",
       "+-------------------+----+------+\n",
       "|2020-03-01 23:00:00|  en|  3242|\n",
       "|2020-03-01 22:00:00|  en|  2368|\n",
       "|2020-03-01 22:00:00|  en|  2360|\n",
       "|2020-03-01 22:00:00|  en|  2223|\n",
       "|2020-03-01 22:00:00|  en|  1398|\n",
       "|2020-03-01 23:00:00|  en|  1872|\n",
       "|2020-03-01 23:00:00|  en|136620|\n",
       "|2020-03-01 23:00:00|  en|  1084|\n",
       "|2020-03-01 23:00:00|  en|  1946|\n",
       "|2020-03-01 23:00:00|  en|  8313|\n",
       "|2020-03-01 23:00:00|  en|  1084|\n",
       "|2020-03-01 22:00:00|  en|  3524|\n",
       "|2020-03-01 22:00:00|  en|  1328|\n",
       "|2020-03-01 22:00:00|  en|  1297|\n",
       "|2020-03-01 23:00:00|  en|  1968|\n",
       "|2020-03-01 22:00:00|  en|  1139|\n",
       "|2020-03-01 22:00:00|  en|  1006|\n",
       "|2020-03-01 23:00:00|  en|  1511|\n",
       "|2020-03-01 23:00:00|  en|  1526|\n",
       "|2020-03-01 22:00:00|  en|  1405|\n",
       "+-------------------+----+------+\n",
       "only showing top 20 rows"
      ]
     },
     "execution_count": 6,
     "metadata": {},
     "output_type": "execute_result"
    }
   ],
   "source": [
    "df_wiki_en = df_wiki_pageviews \\\n",
    "  .select(\"datehour\", \"wiki\", \"views\") \\\n",
    "  .where(\"views > 1000 AND wiki in ('en', 'en.m')\") \\\n",
    "  .cache()\n",
    "\n",
    "df_wiki_en"
   ]
  },
  {
   "cell_type": "markdown",
   "metadata": {},
   "source": [
    "Group by title and order by page views to see the top pages"
   ]
  },
  {
   "cell_type": "code",
   "execution_count": 7,
   "metadata": {},
   "outputs": [
    {
     "data": {
      "text/html": [
       "<table border='1'>\n",
       "<tr><th>datehour</th><th>total_views</th></tr>\n",
       "<tr><td>2020-03-01 21:00:00</td><td>1642981</td></tr>\n",
       "<tr><td>2020-03-01 06:00:00</td><td>1591160</td></tr>\n",
       "<tr><td>2020-03-01 22:00:00</td><td>1541455</td></tr>\n",
       "<tr><td>2020-03-01 17:00:00</td><td>1535983</td></tr>\n",
       "<tr><td>2020-03-01 18:00:00</td><td>1495387</td></tr>\n",
       "<tr><td>2020-03-01 16:00:00</td><td>1487786</td></tr>\n",
       "<tr><td>2020-03-01 05:00:00</td><td>1469068</td></tr>\n",
       "<tr><td>2020-03-01 07:00:00</td><td>1458756</td></tr>\n",
       "<tr><td>2020-03-01 20:00:00</td><td>1457051</td></tr>\n",
       "<tr><td>2020-03-01 15:00:00</td><td>1446984</td></tr>\n",
       "<tr><td>2020-03-01 19:00:00</td><td>1427811</td></tr>\n",
       "<tr><td>2020-03-01 14:00:00</td><td>1372760</td></tr>\n",
       "<tr><td>2020-03-01 23:00:00</td><td>1353548</td></tr>\n",
       "<tr><td>2020-03-01 08:00:00</td><td>1353292</td></tr>\n",
       "<tr><td>2020-03-01 03:00:00</td><td>1339853</td></tr>\n",
       "<tr><td>2020-03-01 04:00:00</td><td>1312186</td></tr>\n",
       "<tr><td>2020-03-01 12:00:00</td><td>1225647</td></tr>\n",
       "<tr><td>2020-03-01 13:00:00</td><td>1212003</td></tr>\n",
       "<tr><td>2020-03-01 10:00:00</td><td>1211310</td></tr>\n",
       "<tr><td>2020-03-01 09:00:00</td><td>1200977</td></tr>\n",
       "</table>\n",
       "only showing top 20 rows\n"
      ],
      "text/plain": [
       "+-------------------+-----------+\n",
       "|           datehour|total_views|\n",
       "+-------------------+-----------+\n",
       "|2020-03-01 21:00:00|    1642981|\n",
       "|2020-03-01 06:00:00|    1591160|\n",
       "|2020-03-01 22:00:00|    1541455|\n",
       "|2020-03-01 17:00:00|    1535983|\n",
       "|2020-03-01 18:00:00|    1495387|\n",
       "|2020-03-01 16:00:00|    1487786|\n",
       "|2020-03-01 05:00:00|    1469068|\n",
       "|2020-03-01 07:00:00|    1458756|\n",
       "|2020-03-01 20:00:00|    1457051|\n",
       "|2020-03-01 15:00:00|    1446984|\n",
       "|2020-03-01 19:00:00|    1427811|\n",
       "|2020-03-01 14:00:00|    1372760|\n",
       "|2020-03-01 23:00:00|    1353548|\n",
       "|2020-03-01 08:00:00|    1353292|\n",
       "|2020-03-01 03:00:00|    1339853|\n",
       "|2020-03-01 04:00:00|    1312186|\n",
       "|2020-03-01 12:00:00|    1225647|\n",
       "|2020-03-01 13:00:00|    1212003|\n",
       "|2020-03-01 10:00:00|    1211310|\n",
       "|2020-03-01 09:00:00|    1200977|\n",
       "+-------------------+-----------+\n",
       "only showing top 20 rows"
      ]
     },
     "execution_count": 7,
     "metadata": {},
     "output_type": "execute_result"
    }
   ],
   "source": [
    "import pyspark.sql.functions as F\n",
    "\n",
    "df_datehour_totals = df_wiki_en \\\n",
    ".groupBy(\"datehour\") \\\n",
    ".agg(F.sum('views').alias('total_views'))\n",
    "\n",
    "df_datehour_totals.orderBy('total_views', ascending=False)"
   ]
  },
  {
   "cell_type": "markdown",
   "metadata": {},
   "source": [
    "### Convert Spark DataFrame to Pandas DataFrame\n",
    "\n",
    "Convert the Spark DataFrame to Pandas DataFrame and set the datehour as the index"
   ]
  },
  {
   "cell_type": "code",
   "execution_count": 8,
   "metadata": {},
   "outputs": [
    {
     "name": "stdout",
     "output_type": "stream",
     "text": [
      "CPU times: user 15.8 ms, sys: 4 ms, total: 19.8 ms\n",
      "Wall time: 3.05 s\n"
     ]
    },
    {
     "data": {
      "text/html": [
       "<div>\n",
       "<style scoped>\n",
       "    .dataframe tbody tr th:only-of-type {\n",
       "        vertical-align: middle;\n",
       "    }\n",
       "\n",
       "    .dataframe tbody tr th {\n",
       "        vertical-align: top;\n",
       "    }\n",
       "\n",
       "    .dataframe thead th {\n",
       "        text-align: right;\n",
       "    }\n",
       "</style>\n",
       "<table border=\"1\" class=\"dataframe\">\n",
       "  <thead>\n",
       "    <tr style=\"text-align: right;\">\n",
       "      <th></th>\n",
       "      <th>total_views</th>\n",
       "    </tr>\n",
       "    <tr>\n",
       "      <th>datehour</th>\n",
       "      <th></th>\n",
       "    </tr>\n",
       "  </thead>\n",
       "  <tbody>\n",
       "    <tr>\n",
       "      <th>2020-03-01 22:00:00</th>\n",
       "      <td>1541455</td>\n",
       "    </tr>\n",
       "    <tr>\n",
       "      <th>2020-03-01 09:00:00</th>\n",
       "      <td>1200977</td>\n",
       "    </tr>\n",
       "    <tr>\n",
       "      <th>2020-03-01 12:00:00</th>\n",
       "      <td>1225647</td>\n",
       "    </tr>\n",
       "    <tr>\n",
       "      <th>2020-03-01 20:00:00</th>\n",
       "      <td>1457051</td>\n",
       "    </tr>\n",
       "    <tr>\n",
       "      <th>2020-03-01 10:00:00</th>\n",
       "      <td>1211310</td>\n",
       "    </tr>\n",
       "  </tbody>\n",
       "</table>\n",
       "</div>"
      ],
      "text/plain": [
       "                     total_views\n",
       "datehour                        \n",
       "2020-03-01 22:00:00      1541455\n",
       "2020-03-01 09:00:00      1200977\n",
       "2020-03-01 12:00:00      1225647\n",
       "2020-03-01 20:00:00      1457051\n",
       "2020-03-01 10:00:00      1211310"
      ]
     },
     "execution_count": 8,
     "metadata": {},
     "output_type": "execute_result"
    }
   ],
   "source": [
    "spark.conf.set(\"spark.sql.execution.arrow.enabled\", \"true\")\n",
    "%time pandas_datehour_totals = df_datehour_totals.toPandas()\n",
    "\n",
    "pandas_datehour_totals.set_index('datehour', inplace=True)\n",
    "pandas_datehour_totals.head()"
   ]
  },
  {
   "cell_type": "markdown",
   "metadata": {},
   "source": [
    "### Plotting Pandas Dataframe\n",
    "\n",
    "Import matplotlib"
   ]
  },
  {
   "cell_type": "code",
   "execution_count": 9,
   "metadata": {},
   "outputs": [],
   "source": [
    "import matplotlib.pyplot as plt"
   ]
  },
  {
   "cell_type": "markdown",
   "metadata": {},
   "source": [
    "Use the [Pandas plot function](https://pandas.pydata.org/docs/user_guide/visualization.html) to create a line chart"
   ]
  },
  {
   "cell_type": "code",
   "execution_count": 10,
   "metadata": {},
   "outputs": [
    {
     "data": {
      "image/png": "[encoded data removed]",
      "text/plain": [
       "<Figure size 864x432 with 1 Axes>"
      ]
     },
     "metadata": {
      "needs_background": "light"
     },
     "output_type": "display_data"
    }
   ],
   "source": [
    "pandas_datehour_totals.plot(kind='line',figsize=(12,6));"
   ]
  },
  {
   "cell_type": "markdown",
   "metadata": {},
   "source": [
    "### Plot Multiple Columns\n",
    "\n",
    "Create a new Spark DataFrame and pivot the wiki column to create multiple rows for each wiki value"
   ]
  },
  {
   "cell_type": "code",
   "execution_count": 11,
   "metadata": {},
   "outputs": [
    {
     "data": {
      "text/html": [
       "<table border='1'>\n",
       "<tr><th>datehour</th><th>en</th><th>en.m</th></tr>\n",
       "<tr><td>2020-03-01 22:00:00</td><td>558358</td><td>983097</td></tr>\n",
       "<tr><td>2020-03-01 09:00:00</td><td>638692</td><td>562285</td></tr>\n",
       "<tr><td>2020-03-01 12:00:00</td><td>633432</td><td>592215</td></tr>\n",
       "<tr><td>2020-03-01 20:00:00</td><td>615714</td><td>841337</td></tr>\n",
       "<tr><td>2020-03-01 05:00:00</td><td>588808</td><td>880260</td></tr>\n",
       "<tr><td>2020-03-01 10:00:00</td><td>644680</td><td>566630</td></tr>\n",
       "<tr><td>2020-03-01 14:00:00</td><td>685500</td><td>687260</td></tr>\n",
       "<tr><td>2020-03-01 19:00:00</td><td>592967</td><td>834844</td></tr>\n",
       "<tr><td>2020-03-01 03:00:00</td><td>391300</td><td>948553</td></tr>\n",
       "<tr><td>2020-03-01 01:00:00</td><td>360511</td><td>783510</td></tr>\n",
       "<tr><td>2020-03-01 04:00:00</td><td>383489</td><td>928697</td></tr>\n",
       "<tr><td>2020-03-01 18:00:00</td><td>645590</td><td>849797</td></tr>\n",
       "<tr><td>2020-03-01 00:00:00</td><td>382154</td><td>758920</td></tr>\n",
       "<tr><td>2020-03-01 07:00:00</td><td>839531</td><td>619225</td></tr>\n",
       "<tr><td>2020-03-01 08:00:00</td><td>783419</td><td>569873</td></tr>\n",
       "<tr><td>2020-03-01 13:00:00</td><td>619111</td><td>592892</td></tr>\n",
       "<tr><td>2020-03-01 11:00:00</td><td>594027</td><td>577016</td></tr>\n",
       "<tr><td>2020-03-01 15:00:00</td><td>695881</td><td>751103</td></tr>\n",
       "<tr><td>2020-03-01 16:00:00</td><td>661878</td><td>825908</td></tr>\n",
       "<tr><td>2020-03-01 23:00:00</td><td>484077</td><td>869471</td></tr>\n",
       "</table>\n",
       "only showing top 20 rows\n"
      ],
      "text/plain": [
       "+-------------------+------+------+\n",
       "|           datehour|    en|  en.m|\n",
       "+-------------------+------+------+\n",
       "|2020-03-01 22:00:00|558358|983097|\n",
       "|2020-03-01 09:00:00|638692|562285|\n",
       "|2020-03-01 12:00:00|633432|592215|\n",
       "|2020-03-01 20:00:00|615714|841337|\n",
       "|2020-03-01 10:00:00|644680|566630|\n",
       "|2020-03-01 05:00:00|588808|880260|\n",
       "|2020-03-01 14:00:00|685500|687260|\n",
       "|2020-03-01 19:00:00|592967|834844|\n",
       "|2020-03-01 03:00:00|391300|948553|\n",
       "|2020-03-01 01:00:00|360511|783510|\n",
       "|2020-03-01 04:00:00|383489|928697|\n",
       "|2020-03-01 18:00:00|645590|849797|\n",
       "|2020-03-01 00:00:00|382154|758920|\n",
       "|2020-03-01 07:00:00|839531|619225|\n",
       "|2020-03-01 08:00:00|783419|569873|\n",
       "|2020-03-01 13:00:00|619111|592892|\n",
       "|2020-03-01 11:00:00|594027|577016|\n",
       "|2020-03-01 15:00:00|695881|751103|\n",
       "|2020-03-01 16:00:00|661878|825908|\n",
       "|2020-03-01 23:00:00|484077|869471|\n",
       "+-------------------+------+------+\n",
       "only showing top 20 rows"
      ]
     },
     "execution_count": 11,
     "metadata": {},
     "output_type": "execute_result"
    }
   ],
   "source": [
    "import pyspark.sql.functions as F\n",
    "\n",
    "df_wiki_totals = df_wiki_en \\\n",
    ".groupBy(\"datehour\") \\\n",
    ".pivot(\"wiki\") \\\n",
    ".agg(F.sum('views').alias('total_views'))\n",
    "\n",
    "df_wiki_totals"
   ]
  },
  {
   "cell_type": "markdown",
   "metadata": {},
   "source": [
    "### Convert to Pandas DataFrame"
   ]
  },
  {
   "cell_type": "code",
   "execution_count": 12,
   "metadata": {},
   "outputs": [
    {
     "data": {
      "text/html": [
       "<div>\n",
       "<style scoped>\n",
       "    .dataframe tbody tr th:only-of-type {\n",
       "        vertical-align: middle;\n",
       "    }\n",
       "\n",
       "    .dataframe tbody tr th {\n",
       "        vertical-align: top;\n",
       "    }\n",
       "\n",
       "    .dataframe thead th {\n",
       "        text-align: right;\n",
       "    }\n",
       "</style>\n",
       "<table border=\"1\" class=\"dataframe\">\n",
       "  <thead>\n",
       "    <tr style=\"text-align: right;\">\n",
       "      <th></th>\n",
       "      <th>en</th>\n",
       "      <th>en.m</th>\n",
       "    </tr>\n",
       "    <tr>\n",
       "      <th>datehour</th>\n",
       "      <th></th>\n",
       "      <th></th>\n",
       "    </tr>\n",
       "  </thead>\n",
       "  <tbody>\n",
       "    <tr>\n",
       "      <th>2020-03-01 22:00:00</th>\n",
       "      <td>558358</td>\n",
       "      <td>983097</td>\n",
       "    </tr>\n",
       "    <tr>\n",
       "      <th>2020-03-01 09:00:00</th>\n",
       "      <td>638692</td>\n",
       "      <td>562285</td>\n",
       "    </tr>\n",
       "    <tr>\n",
       "      <th>2020-03-01 12:00:00</th>\n",
       "      <td>633432</td>\n",
       "      <td>592215</td>\n",
       "    </tr>\n",
       "    <tr>\n",
       "      <th>2020-03-01 20:00:00</th>\n",
       "      <td>615714</td>\n",
       "      <td>841337</td>\n",
       "    </tr>\n",
       "    <tr>\n",
       "      <th>2020-03-01 10:00:00</th>\n",
       "      <td>644680</td>\n",
       "      <td>566630</td>\n",
       "    </tr>\n",
       "  </tbody>\n",
       "</table>\n",
       "</div>"
      ],
      "text/plain": [
       "                         en    en.m\n",
       "datehour                           \n",
       "2020-03-01 22:00:00  558358  983097\n",
       "2020-03-01 09:00:00  638692  562285\n",
       "2020-03-01 12:00:00  633432  592215\n",
       "2020-03-01 20:00:00  615714  841337\n",
       "2020-03-01 10:00:00  644680  566630"
      ]
     },
     "execution_count": 12,
     "metadata": {},
     "output_type": "execute_result"
    }
   ],
   "source": [
    "pandas_wiki_totals = df_wiki_totals.toPandas()\n",
    "\n",
    "pandas_wiki_totals.set_index('datehour', inplace=True)\n",
    "pandas_wiki_totals.head()"
   ]
  },
  {
   "cell_type": "markdown",
   "metadata": {},
   "source": [
    "### Create plot with line for each column"
   ]
  },
  {
   "cell_type": "code",
   "execution_count": 13,
   "metadata": {},
   "outputs": [
    {
     "data": {
      "text/plain": [
       "<matplotlib.axes._subplots.AxesSubplot at 0x7fb386d9d7f0>"
      ]
     },
     "execution_count": 13,
     "metadata": {},
     "output_type": "execute_result"
    },
    {
     "data": {
      "image/png": "[encoded data removed]",
      "text/plain": [
       "<Figure size 864x432 with 1 Axes>"
      ]
     },
     "metadata": {
      "needs_background": "light"
     },
     "output_type": "display_data"
    }
   ],
   "source": [
    "pandas_wiki_totals.plot(kind='line',figsize=(12,6))"
   ]
  },
  {
   "cell_type": "markdown",
   "metadata": {},
   "source": [
    "### Create stacked area plot "
   ]
  },
  {
   "cell_type": "code",
   "execution_count": 14,
   "metadata": {},
   "outputs": [
    {
     "data": {
      "text/plain": [
       "<matplotlib.axes._subplots.AxesSubplot at 0x7fb386f712b0>"
      ]
     },
     "execution_count": 14,
     "metadata": {},
     "output_type": "execute_result"
    },
    {
     "data": {
      "image/png": "[encoded data removed]",
      "text/plain": [
       "<Figure size 864x432 with 1 Axes>"
      ]
     },
     "metadata": {
      "needs_background": "light"
     },
     "output_type": "display_data"
    }
   ],
   "source": [
    "pandas_wiki_totals.plot.area(figsize=(12,6))"
   ]
  }
 ],
 "metadata": {
  "kernelspec": {
   "display_name": "Python 3",
   "language": "python",
   "name": "python3"
  },
  "language_info": {
   "codemirror_mode": {
    "name": "ipython",
    "version": 3
   },
   "file_extension": ".py",
   "mimetype": "text/x-python",
   "name": "python",
   "nbconvert_exporter": "python",
   "pygments_lexer": "ipython3",
   "version": "3.6.10"
  }
 },
 "nbformat": 4,
 "nbformat_minor": 4
}