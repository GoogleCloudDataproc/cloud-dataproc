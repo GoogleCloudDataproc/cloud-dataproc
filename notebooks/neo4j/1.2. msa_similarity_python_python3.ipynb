{
 "cells": [
  {
   "cell_type": "markdown",
   "metadata": {
    "pycharm": {
     "name": "#%% md\n"
    }
   },
   "source": [
    "# Google Storage Read CSV with Neo4j Python API\n",
    "In the examples that follows, we will be using the Neo4j python client\n",
    "[Neo4j python client](https://neo4j.com/developer/python/)"
   ]
  },
  {
   "cell_type": "markdown",
   "metadata": {
    "pycharm": {
     "name": "#%% md\n"
    }
   },
   "source": [
    "## Setup Neo4j instance\n",
    "Create a free account at [https://sandbox.neo4j.com](https://sandbox.neo4j.com). Choose the \"Blank Sandbox - Graph Data Science\" option.\n",
    "\n",
    "When your sandbox has been created, fill in the Bolt URL and password below."
   ]
  },
  {
   "cell_type": "markdown",
   "metadata": {
    "pycharm": {
     "name": "#%% md\n"
    }
   },
   "source": [
    "In the examples that follows, we will be using the new PySpark graphdatascience client library.\n",
    "\n",
    "## Setup Neo4j Python client imports"
   ]
  },
  {
   "cell_type": "code",
   "execution_count": null,
   "metadata": {
    "pycharm": {
     "name": "#%%\n"
    }
   },
   "outputs": [],
   "source": [
    "from neo4j import GraphDatabase\n",
    "import pandas as pd\n",
    "import warnings"
   ]
  },
  {
   "cell_type": "markdown",
   "metadata": {
    "pycharm": {
     "name": "#%% md\n"
    }
   },
   "source": [
    "Import visualization libraries for analyzing dataframes in this notebook."
   ]
  },
  {
   "cell_type": "code",
   "execution_count": null,
   "metadata": {
    "pycharm": {
     "name": "#%%\n"
    }
   },
   "outputs": [],
   "source": [
    "import warnings\n",
    "import seaborn as sns\n",
    "from matplotlib import pyplot as plt"
   ]
  },
  {
   "cell_type": "markdown",
   "metadata": {
    "pycharm": {
     "name": "#%% md\n"
    }
   },
   "source": [
    "Define Neo4j connection variables.  Yours will be different."
   ]
  },
  {
   "cell_type": "code",
   "execution_count": null,
   "metadata": {
    "pycharm": {
     "name": "#%%\n"
    }
   },
   "outputs": [],
   "source": [
    "neo4j_url = \"bolt://***removed***:7687\"\n",
    "neo4j_user = \"neo4j\"\n",
    "neo4j_password = \"***removed***\"\n",
    "neo4j_database= \"neo4j\""
   ]
  },
  {
   "cell_type": "markdown",
   "metadata": {
    "pycharm": {
     "name": "#%% md\n"
    }
   },
   "source": [
    "Create a helper class Neo4jConnection for working with the Neo4j python client."
   ]
  },
  {
   "cell_type": "code",
   "execution_count": null,
   "metadata": {
    "pycharm": {
     "name": "#%%\n"
    }
   },
   "outputs": [],
   "source": [
    "class Neo4jPythonClient:\n",
    "\n",
    "    def __init__(self, uri, user, pwd):\n",
    "\n",
    "        self.__uri = uri\n",
    "        self.__user = user\n",
    "        self.__pwd = pwd\n",
    "        self.__driver = None\n",
    "\n",
    "        try:\n",
    "            self.__driver = GraphDatabase.driver(self.__uri, auth=(self.__user, self.__pwd))\n",
    "        except Exception as e:\n",
    "            print(\"Failed to create the driver:\", e)\n",
    "\n",
    "    def close(self):\n",
    "\n",
    "        if self.__driver is not None:\n",
    "            self.__driver.close()\n",
    "\n",
    "    def query(self, query, parameters=None, db=None):\n",
    "\n",
    "        assert self.__driver is not None, \"Driver not initialized!\"\n",
    "        session = None\n",
    "        response = None\n",
    "\n",
    "        try:\n",
    "            session = self.__driver.session(database=db) if db is not None else self.__driver.session()\n",
    "            response = list(session.run(query, parameters))\n",
    "        except Exception as e:\n",
    "            print(\"Query failed:\", e)\n",
    "        finally:\n",
    "            if session is not None:\n",
    "                session.close()\n",
    "        return response\n",
    "\n",
    "    def queryToDf(self, query, parameters=None, db=None):\n",
    "\n",
    "        assert self.__driver is not None, \"Driver not initialized!\"\n",
    "        session = None\n",
    "        response = None\n",
    "\n",
    "        try:\n",
    "            warnings.filterwarnings(\n",
    "                \"ignore\",\n",
    "                message=r\"^pandas support is experimental and might be changed or removed in future versions$\",\n",
    "            )\n",
    "            session = self.__driver.session(database=db) if db is not None else self.__driver.session()\n",
    "            response = session.run(query, parameters).to_df()\n",
    "        except Exception as e:\n",
    "            print(\"Query failed:\", e)\n",
    "        finally:\n",
    "            if session is not None:\n",
    "                session.close()\n",
    "        return response\n",
    "\n",
    "    def queryToPrint(self, query, parameters=None, db=None):\n",
    "        print(self.queryToDf(query,parameters,db))"
   ]
  },
  {
   "cell_type": "markdown",
   "metadata": {
    "pycharm": {
     "name": "#%% md\n"
    }
   },
   "source": [
    "Create connection to Python client"
   ]
  },
  {
   "cell_type": "code",
   "execution_count": null,
   "metadata": {
    "pycharm": {
     "name": "#%%\n"
    }
   },
   "outputs": [],
   "source": [
    "gdbClient = Neo4jPythonClient(uri=neo4j_url, user=neo4j_user, pwd=neo4j_password)"
   ]
  },
  {
   "cell_type": "code",
   "execution_count": null,
   "metadata": {
    "pycharm": {
     "name": "#%%\n"
    }
   },
   "outputs": [],
   "source": [
    "gds_version_query = \"\"\"return gds.version() as gds_version\"\"\"\n",
    "gdbClient.queryToPrint(gds_version_query)"
   ]
  },
  {
   "cell_type": "markdown",
   "metadata": {
    "pycharm": {
     "name": "#%% md\n"
    }
   },
   "source": [
    "Test Python client by checking if there are records currently in the database."
   ]
  },
  {
   "cell_type": "code",
   "execution_count": null,
   "metadata": {
    "pycharm": {
     "name": "#%%\n"
    }
   },
   "outputs": [],
   "source": [
    "count_nodes_query = \"\"\"MATCH (n) RETURN count(n) as count\"\"\"\n",
    "gdbClient.queryToPrint(count_nodes_query)"
   ]
  },
  {
   "cell_type": "markdown",
   "metadata": {
    "pycharm": {
     "name": "#%% md\n"
    }
   },
   "source": [
    "If there are records, wipe out the database"
   ]
  },
  {
   "cell_type": "code",
   "execution_count": null,
   "metadata": {
    "pycharm": {
     "name": "#%%\n"
    }
   },
   "outputs": [],
   "source": [
    "reset_db = gdbClient.queryToPrint(\"CREATE OR REPLACE DATABASE `\"+neo4j_database+\"`\")"
   ]
  },
  {
   "cell_type": "markdown",
   "metadata": {
    "pycharm": {
     "name": "#%% md\n"
    }
   },
   "source": [
    "Recheck the database"
   ]
  },
  {
   "cell_type": "markdown",
   "metadata": {
    "pycharm": {
     "name": "#%% md\n"
    }
   },
   "source": [
    "# Load MSA data from CSV"
   ]
  },
  {
   "cell_type": "markdown",
   "metadata": {
    "pycharm": {
     "name": "#%% md\n"
    }
   },
   "source": [
    "Create MSA unique constraint"
   ]
  },
  {
   "cell_type": "code",
   "execution_count": null,
   "metadata": {
    "pycharm": {
     "name": "#%%\n"
    }
   },
   "outputs": [],
   "source": [
    "gdbClient.query(\"\"\"\n",
    "CREATE CONSTRAINT msa_name IF NOT EXISTS ON (m:MSA) ASSERT m.name IS NODE KEY\n",
    "\"\"\")"
   ]
  },
  {
   "cell_type": "code",
   "execution_count": null,
   "metadata": {
    "pycharm": {
     "name": "#%%\n"
    }
   },
   "outputs": [],
   "source": [
    "load_csv_query = \"\"\"\n",
    "LOAD CSV WITH HEADERS FROM 'https://raw.githubusercontent.com/smithna/datasets/main/CensusDemographicsByMetroArea.csv'\n",
    "AS row\n",
    "WITH row WHERE row.name CONTAINS 'Metro'\n",
    "MERGE (m:MSA {name:row.name})\n",
    "SET m.population = toInteger(row.population),\n",
    "m.medianHouseholdIncome = toInteger(row.medianHouseholdIncome),\n",
    "m.medianHomePrice = toInteger(row.medianHomePrice),\n",
    "m.percentOver25WithBachelors = toFloat(row.percentOver25WithBachelors)\n",
    "RETURN count(m) as msaCount\"\"\"\n",
    "\n",
    "gdbClient.queryToPrint(load_csv_query)"
   ]
  },
  {
   "cell_type": "markdown",
   "metadata": {
    "pycharm": {
     "name": "#%% md\n"
    }
   },
   "source": [
    "Start by creating a [node key constraint](https://neo4j.com/docs/cypher-manual/current/constraints/) that requires that each MSA node has a unique name."
   ]
  },
  {
   "cell_type": "code",
   "execution_count": null,
   "metadata": {
    "pycharm": {
     "name": "#%%\n"
    }
   },
   "outputs": [],
   "source": [
    "gdbClient.query(\"\"\"\n",
    "CREATE CONSTRAINT msa_name IF NOT EXISTS ON (m:MSA) ASSERT m.name IS NODE KEY\n",
    "\"\"\")"
   ]
  },
  {
   "cell_type": "markdown",
   "metadata": {
    "pycharm": {
     "name": "#%% md\n"
    }
   },
   "source": [
    "# Run Cypher queries for data profiling\n",
    "Aggregate and find quantiles."
   ]
  },
  {
   "cell_type": "code",
   "execution_count": null,
   "metadata": {
    "pycharm": {
     "name": "#%%\n"
    }
   },
   "outputs": [],
   "source": [
    "gdbClient.queryToPrint(\"\"\"\n",
    "MATCH (n)\n",
    "WITH n, \n",
    "[\"population\", \"medianHouseholdIncome\", \"medianHomePrice\", \"percentOver25WithBachelors\" ] AS metrics\n",
    "UNWIND metrics as metric\n",
    "WITH metric, n[metric] AS value\n",
    "RETURN metric, min(value) AS minValue,\n",
    "percentileCont(value, 0.25) AS percentile25, \n",
    "percentileCont(value, 0.50) AS percentile50, \n",
    "percentileCont(value, 0.75) AS percentile75, \n",
    "max(value) AS maxValue\n",
    "\"\"\")"
   ]
  },
  {
   "cell_type": "markdown",
   "metadata": {
    "pycharm": {
     "name": "#%% md\n"
    }
   },
   "source": [
    "Some of those quantiles look asymetrical. Lets plot histograms and see what happens if we apply a log transformation.\n",
    "In the next section we are returning results of cypher to a data frame."
   ]
  },
  {
   "cell_type": "code",
   "execution_count": null,
   "metadata": {
    "pycharm": {
     "name": "#%%\n"
    }
   },
   "outputs": [],
   "source": [
    "pd_msa_df = gdbClient.queryToDf(\"\"\"\n",
    "MATCH (m:MSA)\n",
    "RETURN m.name AS msa, \n",
    "m.population AS population,\n",
    "m.medianHouseholdIncome AS medianHouseholdIncome,\n",
    "m.medianHomePrice AS medianHomePrice,\n",
    "m.percentOver25WithBachelors as percentOver25WithBachelors\n",
    "\"\"\")"
   ]
  },
  {
   "cell_type": "code",
   "execution_count": null,
   "metadata": {
    "pycharm": {
     "name": "#%%\n"
    }
   },
   "outputs": [],
   "source": [
    "fig, axes = plt.subplots(4, 2)\n",
    "fig.set_size_inches(15,30)\n",
    "for i in range(1,5):\n",
    "    sns.histplot(pd_msa_df.iloc[:,i], ax=axes[i-1,0])\n",
    "    sns.histplot(pd_msa_df.iloc[:, i], log_scale=True, ax=axes[i-1,1])"
   ]
  },
  {
   "cell_type": "markdown",
   "metadata": {
    "pycharm": {
     "name": "#%% md\n"
    }
   },
   "source": [
    "That log transformation looks like it will help. Run the Cypher to store the transformed values in the graph."
   ]
  },
  {
   "cell_type": "code",
   "execution_count": null,
   "metadata": {
    "pycharm": {
     "name": "#%%\n"
    }
   },
   "outputs": [],
   "source": [
    "gdbClient.queryToPrint(\"\"\"\n",
    "MATCH (m:MSA)\n",
    "SET \n",
    "m.logPopulation = log(m.population),\n",
    "m.logMedianHouseholdIncome = log(m.medianHouseholdIncome),\n",
    "m.logMedianHomePrice = log(m.medianHomePrice),\n",
    "m.logPercentOver25WithBachelors = log(m.percentOver25WithBachelors)\n",
    "\"\"\")"
   ]
  },
  {
   "cell_type": "markdown",
   "metadata": {
    "pycharm": {
     "name": "#%% md\n"
    }
   },
   "source": [
    "That log transformation looks like it will help. Run the Cypher to store the transformed values in the graph."
   ]
  },
  {
   "cell_type": "code",
   "execution_count": null,
   "metadata": {
    "pycharm": {
     "name": "#%%\n"
    }
   },
   "outputs": [],
   "source": [
    "log_update = \"\"\"\n",
    "MATCH (m:MSA)\n",
    "SET\n",
    "m.logPopulation = log(m.population),\n",
    "m.logMedianHouseholdIncome = log(m.medianHouseholdIncome),\n",
    "m.logMedianHomePrice = log(m.medianHomePrice),\n",
    "m.logPercentOver25WithBachelors = log(m.percentOver25WithBachelors)\n",
    "RETURN m.name AS msa,m.logPopulation,m.logMedianHouseholdIncome,m.logMedianHomePrice,m.logPercentOver25WithBachelors\n",
    "\"\"\"\n",
    "\n",
    "gdbClient.queryToPrint(log_update)"
   ]
  },
  {
   "cell_type": "markdown",
   "metadata": {
    "pycharm": {
     "name": "#%% md\n"
    }
   },
   "source": [
    "Check that log attributes were populated"
   ]
  },
  {
   "cell_type": "markdown",
   "metadata": {
    "pycharm": {
     "name": "#%% md\n"
    }
   },
   "source": [
    "# Create in-memory graph projection\n",
    "Passing `\"*\"` as the third argument to `gds.graph.project` tells GDS to include any relationships that exist in the database in the in-memory graph. Because no relationships have been created in the graph yet, there will be no relationships in the in-memory graph projection when it is created."
   ]
  },
  {
   "cell_type": "code",
   "execution_count": null,
   "metadata": {
    "pycharm": {
     "name": "#%%\n"
    }
   },
   "outputs": [],
   "source": [
    "graph_project_query = \"\"\"\n",
    "    CALL gds.graph.project(\n",
    "    'msa-graph',\n",
    "    'MSA',\n",
    "    '*',\n",
    "    {nodeProperties: [\"logPopulation\",\n",
    "        \"logMedianHouseholdIncome\",\n",
    "        \"logMedianHomePrice\",\n",
    "        \"logPercentOver25WithBachelors\"]})\n",
    "\"\"\"\n",
    "\n",
    "gdbClient.queryToPrint(graph_project_query)"
   ]
  },
  {
   "cell_type": "markdown",
   "metadata": {
    "pycharm": {
     "name": "#%% md\n"
    }
   },
   "source": [
    "Notice that when we look at the results of `gds.graph.project`, we see that the `relationshipCount` is 0."
   ]
  },
  {
   "cell_type": "markdown",
   "metadata": {
    "pycharm": {
     "name": "#%% md\n"
    }
   },
   "source": [
    "# Apply MinMax scalar to property values"
   ]
  },
  {
   "cell_type": "code",
   "execution_count": null,
   "metadata": {
    "pycharm": {
     "name": "#%%\n"
    }
   },
   "outputs": [],
   "source": [
    "graph_scale_properties_mutations = \"\"\"\n",
    "CALL gds.alpha.scaleProperties.mutate(\"msa-graph\", {\n",
    "                                 nodeProperties: [\n",
    "                                     \"logPopulation\",\n",
    "                                     \"logMedianHouseholdIncome\",\n",
    "                                     \"logMedianHomePrice\",\n",
    "                                     \"logPercentOver25WithBachelors\"],\n",
    "                                 scaler : \"MinMax\",\n",
    "                                 mutateProperty : \"scaledProperties\"\n",
    "                                 })\n",
    "                                 \"\"\"\n",
    "\n",
    "gdbClient.queryToPrint(graph_scale_properties_mutations)"
   ]
  },
  {
   "cell_type": "markdown",
   "metadata": {
    "pycharm": {
     "name": "#%% md\n"
    }
   },
   "source": [
    "This next line streams node properties to the procedure caller."
   ]
  },
  {
   "cell_type": "code",
   "execution_count": null,
   "metadata": {
    "pycharm": {
     "name": "#%%\n"
    }
   },
   "outputs": [],
   "source": [
    "graph_stream_scaled_properties_query = \"\"\"\n",
    "CALL gds.graph.streamNodeProperty('msa-graph', 'scaledProperties')\n",
    "YIELD nodeId, propertyValue\n",
    "RETURN nodeId, propertyValue\n",
    "                                 \"\"\"\n",
    "pandas_sp_df = gdbClient.queryToDf(graph_stream_scaled_properties_query)\n",
    "pandas_sp_df\n"
   ]
  },
  {
   "cell_type": "code",
   "execution_count": null,
   "metadata": {
    "pycharm": {
     "name": "#%%\n"
    }
   },
   "outputs": [],
   "source": [
    "pd.DataFrame(list(pandas_sp_df['propertyValue'])).iloc[:,0].hist()"
   ]
  },
  {
   "cell_type": "code",
   "execution_count": null,
   "metadata": {
    "pycharm": {
     "name": "#%%\n"
    }
   },
   "outputs": [],
   "source": [
    "pd.DataFrame(list(pandas_sp_df['propertyValue'])).iloc[:,1].hist()"
   ]
  },
  {
   "cell_type": "code",
   "execution_count": null,
   "metadata": {
    "pycharm": {
     "name": "#%%\n"
    }
   },
   "outputs": [],
   "source": [
    "pd.DataFrame(list(pandas_sp_df['propertyValue'])).iloc[:,2].hist()"
   ]
  },
  {
   "cell_type": "code",
   "execution_count": null,
   "metadata": {
    "pycharm": {
     "name": "#%%\n"
    }
   },
   "outputs": [],
   "source": [
    "pd.DataFrame(list(pandas_sp_df['propertyValue'])).iloc[:,3].hist()"
   ]
  },
  {
   "cell_type": "markdown",
   "metadata": {
    "pycharm": {
     "name": "#%% md\n"
    }
   },
   "source": [
    "# Run KNN to create relationships to nearest neighbors\n",
    "First run in stats mode and look at the similarity distribution."
   ]
  },
  {
   "cell_type": "code",
   "execution_count": null,
   "metadata": {
    "pycharm": {
     "name": "#%%\n"
    }
   },
   "outputs": [],
   "source": [
    "knn_stats_query = \"\"\"CALL gds.knn.stats(\"msa-graph\",\n",
    "   {\n",
    "      nodeProperties:{\n",
    "      scaledProperties:\"EUCLIDEAN\"},\n",
    "      topK:15,\n",
    "      similarityCutoff: 0.8350143432617188,\n",
    "      sampleRate:1,\n",
    "      randomSeed:42,\n",
    "      concurrency:1\n",
    "   }\n",
    ")\n",
    "YIELD similarityDistribution\n",
    "RETURN similarityDistribution \"\"\"\n",
    "\n",
    "knn_stats=gdbClient.query(knn_stats_query)\n",
    "print(knn_stats)"
   ]
  },
  {
   "cell_type": "markdown",
   "metadata": {
    "pycharm": {
     "name": "#%% md\n"
    }
   },
   "source": [
    "Now run KNN in mutate mode to update the in-memory graph projection. We'll exclude the bottom 1% of similarity relationships."
   ]
  },
  {
   "cell_type": "code",
   "execution_count": null,
   "metadata": {
    "pycharm": {
     "name": "#%%\n"
    }
   },
   "outputs": [],
   "source": [
    "knn_write = f\"\"\"CALL gds.knn.mutate(\"msa-graph\",\n",
    "               {{nodeProperties: {{scaledProperties: \"EUCLIDEAN\"}},\n",
    "               topK: 15,\n",
    "               mutateRelationshipType: \"IS_SIMILAR\",\n",
    "               mutateProperty: \"similarity\",\n",
    "               similarityCutoff: {knn_stats[0]['similarityDistribution']['p1']},\n",
    "               sampleRate:1,\n",
    "               randomSeed:42,\n",
    "               concurrency:1}}\n",
    "              ) \"\"\"\n",
    "\n",
    "print(knn_write)\n",
    "\n",
    "gdbClient.queryToPrint(knn_write)"
   ]
  },
  {
   "cell_type": "markdown",
   "metadata": {
    "pycharm": {
     "name": "#%% md\n"
    }
   },
   "source": [
    "Also write the relationships from the in-memory graph projection back to the on-disk graph."
   ]
  },
  {
   "cell_type": "code",
   "execution_count": null,
   "metadata": {
    "pycharm": {
     "name": "#%%\n"
    }
   },
   "outputs": [],
   "source": [
    "similarity_relationship_writeback = \"\"\"CALL gds.graph.writeRelationship(\n",
    "    \"msa-graph\",\n",
    "    \"IS_SIMILAR\",\n",
    "    \"similarity\"\n",
    ")\"\"\"\n",
    "\n",
    "gdbClient.queryToPrint(similarity_relationship_writeback)"
   ]
  },
  {
   "cell_type": "markdown",
   "metadata": {
    "pycharm": {
     "name": "#%% md\n"
    }
   },
   "source": [
    "Add a `rank` property to the `IS_SIMILAR` relationships for use with Bloom filtering."
   ]
  },
  {
   "cell_type": "code",
   "execution_count": null,
   "metadata": {
    "pycharm": {
     "name": "#%%\n"
    }
   },
   "outputs": [],
   "source": [
    "add_rank_update = \"\"\"\n",
    "MATCH (m:MSA)-[s:IS_SIMILAR]->()\n",
    "WITH m, s ORDER BY s.similarity DESC\n",
    "WITH m, collect(s) as similarities, range(0, 11) AS ranks\n",
    "UNWIND ranks AS rank\n",
    "WITH rank, similarities[rank] AS rel\n",
    "SET rel.rank = rank + 1\n",
    "\"\"\"\n",
    "\n",
    "gdbClient.queryToPrint(add_rank_update)"
   ]
  },
  {
   "cell_type": "markdown",
   "metadata": {
    "pycharm": {
     "name": "#%% md\n"
    }
   },
   "source": [
    "# Run Louvain community detection"
   ]
  },
  {
   "cell_type": "code",
   "execution_count": null,
   "metadata": {
    "pycharm": {
     "name": "#%%\n"
    }
   },
   "outputs": [],
   "source": [
    "read_louvain = \"\"\"\n",
    "CALL gds.louvain.stats('msa-graph',\n",
    "{relationshipTypes: [\"IS_SIMILAR\"],\n",
    "relationshipWeightProperty:\"similarity\"})\n",
    "YIELD communityCount, modularities\n",
    "RETURN communityCount, modularities\n",
    "\"\"\"\n",
    "gdbClient.queryToPrint(read_louvain)"
   ]
  },
  {
   "cell_type": "markdown",
   "metadata": {
    "pycharm": {
     "name": "#%% md\n"
    }
   },
   "source": [
    "Now commit louvain communities to database"
   ]
  },
  {
   "cell_type": "code",
   "execution_count": null,
   "metadata": {
    "pycharm": {
     "name": "#%%\n"
    }
   },
   "outputs": [],
   "source": [
    "write_louvain = \"\"\"\n",
    "CALL gds.louvain.write('msa-graph',\n",
    "{relationshipTypes: [\"IS_SIMILAR\"],\n",
    "relationshipWeightProperty:\"similarity\",\n",
    " writeProperty:\"communityId\"})\n",
    "YIELD communityCount, modularities\n",
    "RETURN communityCount, modularities\n",
    "\"\"\"\n",
    "\n",
    "gdbClient.queryToPrint(write_louvain)"
   ]
  },
  {
   "cell_type": "markdown",
   "metadata": {
    "pycharm": {
     "name": "#%% md\n"
    }
   },
   "source": [
    "# Gather statistics about the communities that were discovered"
   ]
  },
  {
   "cell_type": "markdown",
   "metadata": {
    "pycharm": {
     "name": "#%% md\n"
    }
   },
   "source": [
    "Get average values for each community and 3 example MSAs for each community."
   ]
  },
  {
   "cell_type": "code",
   "execution_count": null,
   "metadata": {
    "pycharm": {
     "name": "#%%\n"
    }
   },
   "outputs": [],
   "source": [
    "community_query = \"\"\"\n",
    "MATCH (m:MSA)\n",
    "WITH m \n",
    "ORDER BY apoc.coll.sum([(m)-[s:IS_SIMILAR]->(m2) \n",
    "WHERE m.communityId = m2.communityId | s.similarity]) desc\n",
    "RETURN m.communityId as communityId,\n",
    "count(m) as msaCount, \n",
    "avg(m.population) as avgPopulation,\n",
    "avg(m.medianHomePrice) as avgHomePrice,\n",
    "avg(m.medianHouseholdIncome) as avgIncome,\n",
    "avg(m.percentOver25WithBachelors) as avgPctBachelors,\n",
    "collect(m.name)[..3] as exampleMSAs\n",
    "ORDER BY avgPopulation DESC\n",
    "\"\"\"\n",
    "pd_community = gdbClient.queryToDf(community_query)\n",
    "pd_community"
   ]
  },
  {
   "cell_type": "code",
   "execution_count": null,
   "metadata": {
    "pycharm": {
     "name": "#%%\n"
    }
   },
   "outputs": [],
   "source": [
    "pd_community.sort_values('communityId')"
   ]
  },
  {
   "cell_type": "code",
   "execution_count": null,
   "metadata": {
    "pycharm": {
     "name": "#%%\n"
    }
   },
   "outputs": [],
   "source": [
    "fig, axes = plt.subplots(5, 1)\n",
    "fig.set_size_inches(6,20)\n",
    "for i in range(1,6):\n",
    "    sns.barplot(data=pd_community, x=\"communityId\", y=pd_community.columns[i], ax=axes[i-1])"
   ]
  },
  {
   "cell_type": "markdown",
   "metadata": {
    "pycharm": {
     "name": "#%% md\n"
    }
   },
   "source": [
    "Mean can give us a quick overview of properties, but can be skewed by outliers. Compare emperical cumulative distribution function (ECDF) at various proportions to get a more complete picture of distributions."
   ]
  },
  {
   "cell_type": "code",
   "execution_count": null,
   "metadata": {
    "pycharm": {
     "name": "#%%\n"
    }
   },
   "outputs": [],
   "source": [
    "# we need to remove sort by here\n",
    "detail_query=\"\"\"\n",
    "MATCH (m:MSA)\n",
    "RETURN \"community \" + m.communityId as communityId,\n",
    "m.population as population,\n",
    "m.medianHomePrice as medianHomePrice,\n",
    "m.medianHouseholdIncome as medianIncome,\n",
    "m.percentOver25WithBachelors as pctBachelors\n",
    "order by communityId ASC\n",
    "\"\"\"\n",
    "\n",
    "## post sorting in spark\n",
    "\n",
    "pd_detail =gdbClient.queryToDf(detail_query)"
   ]
  },
  {
   "cell_type": "code",
   "execution_count": null,
   "metadata": {
    "pycharm": {
     "name": "#%%\n"
    }
   },
   "outputs": [],
   "source": [
    "print(pd_detail)"
   ]
  },
  {
   "cell_type": "code",
   "execution_count": null,
   "metadata": {
    "pycharm": {
     "name": "#%%\n"
    }
   },
   "outputs": [],
   "source": [
    "fig, axes = plt.subplots(4, 1)\n",
    "fig.set_size_inches(6,20)\n",
    "for i in range(1,5):\n",
    "    sns.ecdfplot(data=pd_detail, hue=\"communityId\", x=pd_detail.columns[i], log_scale=True, ax=axes[i-1])"
   ]
  },
  {
   "cell_type": "markdown",
   "metadata": {
    "pycharm": {
     "name": "#%% md\n"
    }
   },
   "source": [
    "Compare two-dimensions on scatter plots"
   ]
  },
  {
   "cell_type": "code",
   "execution_count": null,
   "metadata": {
    "pycharm": {
     "name": "#%%\n"
    }
   },
   "outputs": [],
   "source": [
    "splot = sns.scatterplot(data=pd_detail, x=\"medianIncome\", y=\"population\", hue=\"communityId\")\n",
    "splot.set(yscale=\"log\")\n",
    "splot.set(xscale=\"log\")"
   ]
  },
  {
   "cell_type": "code",
   "execution_count": null,
   "metadata": {
    "pycharm": {
     "name": "#%%\n"
    }
   },
   "outputs": [],
   "source": [
    "splot = sns.scatterplot(data=pd_detail, x=\"pctBachelors\", y=\"medianHomePrice\", hue=\"communityId\")\n",
    "splot.set(yscale=\"log\")\n",
    "splot.set(xscale=\"log\")"
   ]
  },
  {
   "cell_type": "markdown",
   "metadata": {
    "pycharm": {
     "name": "#%% md\n"
    }
   },
   "source": [
    "# Assign human-friendly names to the clusters discovered.\n",
    "The Louvain community detection algorithm is not deterministic. You should have roughly the same clusters from previous runs, but some edge cases might be assigned to different communities. The community numbers might be shuffled between across different runs.\n",
    "**This step requires adjustment by hand: choose from community IDs above.**"
   ]
  },
  {
   "cell_type": "code",
   "execution_count": null,
   "metadata": {
    "pycharm": {
     "name": "#%%\n"
    }
   },
   "outputs": [],
   "source": [
    "gdbClient.queryToPrint(\"\"\"\n",
    "MATCH (m:MSA) \n",
    "  SET m.communityName = CASE m.communityId \n",
    "  WHEN 56 THEN \"Large mid-cost metros\"\n",
    "  WHEN 83 THEN \"College towns\"\n",
    "  WHEN 100 THEN \"Large high-cost metros\"\n",
    "  WHEN 254 THEN \"Mid-size metros\"\n",
    "  WHEN 266 THEN \"Small metros\"\n",
    "  WHEN 377 THEN \"Mid-price metros\"\n",
    "  WHEN 313 THEN \"Low-income metros\"\n",
    "  END\n",
    "return m.communityName, m.communityId, count(*)\n",
    "\"\"\")"
   ]
  },
  {
   "cell_type": "markdown",
   "metadata": {
    "pycharm": {
     "name": "#%% md\n"
    }
   },
   "source": [
    "Create an index on the `communityName` property to make it searchable in Bloom."
   ]
  },
  {
   "cell_type": "code",
   "execution_count": null,
   "metadata": {
    "pycharm": {
     "name": "#%%\n"
    }
   },
   "outputs": [],
   "source": [
    "gdbClient.query(\"\"\"\n",
    "CREATE INDEX msa_community_name IF NOT EXISTS\n",
    "FOR (m:MSA)\n",
    "ON (m.communityName)\n",
    "\"\"\")"
   ]
  }
 ],
 "metadata": {
  "kernelspec": {
   "display_name": "Python 3",
   "language": "python",
   "name": "python3"
  },
  "language_info": {
   "codemirror_mode": {
    "name": "ipython",
    "version": 3
   },
   "file_extension": ".py",
   "mimetype": "text/x-python",
   "name": "python",
   "nbconvert_exporter": "python",
   "pygments_lexer": "ipython3",
   "version": "3.7.4"
  }
 },
 "nbformat": 4,
 "nbformat_minor": 5
}